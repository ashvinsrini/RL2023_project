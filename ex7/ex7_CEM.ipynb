{
 "cells": [
  {
   "cell_type": "markdown",
   "id": "332ba632",
   "metadata": {},
   "source": [
    "\n",
    "<div class=\"alert alert-block alert-info\">\n",
    "   <h2 align=\"center\"> <center><b> Reinforcement Learning Assignment 7 - Model Based Reinforcement Learning </b></center></h2>\n",
    "\n",
    "<br>\n",
    "<center><font size=\"3\">This notebook is a part of teaching material for ELEC-E8125</font></center>\n",
    "<center><font size=\"3\">Sep 4, 2023 - Nov 30, 2023</font></center>\n",
    "<center><font size=\"3\">Aalto University</font></center>\n",
    "</div>\n",
    "\n",
    "\n",
    "<a id='TOC'></a>\n",
    "\n",
    "<div class=\"alert alert-block alert-success\">\n",
    "    \n",
    "# Table of contents\n",
    "* <a href='#1.'> 1. Introduction </a>\n",
    "* <a href='#1.1'> 1.1 Learning Objectives </a>\n",
    "* <a href='#1.2'> 1.2 Code Structure & Files </a>\n",
    "* <a href='#2.'> 2. Cross Entropy Method (CEM) </a>\n",
    "* <a href='#3.'> 3. Submitting </a>\n",
    "* <a href='#3.1'> 3.1 Feedback </a>\n",
    "* <a href='#4.'> References</a>\n",
    "\n",
    "<a href='#T1'><b>Student Task 1.</b> Implementing CEM (30 points)</a>\\\n",
    "<a href='#Q1'><b>Student Question 1.1</b> Changing Number of Samples (10 points)</a>\\\n",
    "<a href='#Q2'><b>Student Question 1.2</b> Model-free vs Mode-based RL (20 points)</a>\n",
    "    \n",
    "**Total Points:** 60"
   ]
  },
  {
   "cell_type": "markdown",
   "id": "013318a6",
   "metadata": {},
   "source": [
    "# 1. Introduction <a id='1.'></a>\n",
    "In this exercise we will dive into model-based reinforcement learning. We will implement planning over several time steps. We will use the cross entropy method (CEM) to choose actions at each time step. CEM is often used in model-based reinforcement learning for choosing actions. The main working principles of CEM were explained during the lecture \"Model-based RL\". We use the simulator to simulate state transitions (another possibility would be to learn a dynamics model $s_{t+1} = f(s_t, a_t)$ to simulate state transitions if access to the system dynamics is not available).\n",
    "\n",
    "## 1.1 Learning Objectives: <a id='1.1'></a>\n",
    "- Understand how to get CEM planning working in practice\n",
    "- Understand limitations and advantages of model-based RL using CEM\n",
    "\n",
    "## 1.2 Code Structure & Files <a id='1.2'></a>\n",
    "\n",
    "You don’t have to edit any other file other than ```ex7.ipynb``` to complete this exercise.\n",
    "\n",
    "```\n",
    "├───imgs                 # Images used in notebook\n",
    "│   ex7_CEM.ipynb        # Main assignment file containing tasks <---------\n",
    "│   env.py               # Wrappers for the environment\n",
    "|   simulator.py         # Using the exact environment as the model (simulator)\n",
    "```"
   ]
  },
  {
   "cell_type": "markdown",
   "id": "5197a537",
   "metadata": {},
   "source": [
    "# 2. Cross Entropy Method (CEM) <a id='2.'></a>\n",
    "\n",
    "In this section, we will try to solve the **Cup-Catch** environment from the [DeepMind Control Suite](https://github.com/deepmind/dm_control/tree/main/dm_control/suite) by planning using CEM. \n",
    "\n",
    "In **Cup-Catch**, a ball is attached to a string which hangs from a cup. The goal is to swing the ball into the cup by moving the cup vertically up and down. The task has a sparse reward: 1 when the ball is in the cup, 0 otherwise. In order to save computation time we select an action every six time steps and use a wrapper to repeat the same action 6 times. Therefore, the maximum reward for each actual time step is 6.\n",
    "\n",
    "<br>\n",
    "\n",
    "<div style=\"text-align: center;\">\n",
    "    <img src=\"imgs/cup_catcher.png\" width=\"400px\">\n",
    "    <figcaption> Figure 1: Cup-Catch environment </figcaption>\n",
    "</div>"
   ]
  },
  {
   "cell_type": "markdown",
   "id": "3e72ec92",
   "metadata": {},
   "source": [
    "<a id='T1'></a>\n",
    "<div class=\" alert alert-warning\">\n",
    "    <h3><b>Student Task 1.</b> Implementing CEM (30 points) </h3> \n",
    "\n",
    "You need to complete the planning part in the code marked as ```TODO```. The code takes advantage of multiple processor cores by parallelizing the code. For more information about parallelizing, please check [Joblib](https://joblib.readthedocs.io/en/latest/generated/joblib.Parallel.html). <br>\n",
    "    \n",
    "**Ensure that the notebook contains the reward plot.** \n",
    "\n",
    "The reference training plot is as Figure 2:\n",
    "\n",
    "<div style=\"text-align: center;\">\n",
    "    <img src=\"imgs/cem_reward.png\">\n",
    "    <figcaption> Figure 2: Reward function at each time step in CEM </figcaption>\n",
    "</div>\n",
    "            \n",
    "🔝\t<a href='#TOC'><b>Table of Contents</b></a>\n",
    "</div>\n"
   ]
  },
  {
   "cell_type": "code",
   "execution_count": 1,
   "id": "eb546a87",
   "metadata": {
    "tags": []
   },
   "outputs": [],
   "source": [
    "from pathlib import Path # to find directory\n",
    "import sys, os\n",
    "sys.path.append(\"..\")\n",
    "\n",
    "from typing import Sequence, Tuple, Dict, Callable, List\n",
    "from functools import partial\n",
    "import copy, torch, time\n",
    "from joblib import Parallel, delayed\n",
    "import numpy as np\n",
    "\n",
    "from env import make_env\n",
    "from simulator import SimulatorWrapper\n",
    "import matplotlib.pyplot as plt"
   ]
  },
  {
   "cell_type": "code",
   "execution_count": 2,
   "id": "60671443-30df-4a7c-bffc-2e88a1fb70c7",
   "metadata": {
    "tags": []
   },
   "outputs": [],
   "source": [
    "%%capture\n",
    "!pip install mediapy # install a package required for video visualization"
   ]
  },
  {
   "cell_type": "code",
   "execution_count": 3,
   "id": "47668253",
   "metadata": {
    "tags": []
   },
   "outputs": [],
   "source": [
    "class CEM(object):\n",
    "    def __init__(\n",
    "        self, \n",
    "        model,\n",
    "        action_shape,\n",
    "        num_samples,\n",
    "        num_topk,\n",
    "        plan_horizon,\n",
    "        iteration,\n",
    "        keep_last_solution,\n",
    "        expl_noise\n",
    "    ):\n",
    "\n",
    "        self.model = model # the dynamics model\n",
    "\n",
    "        self.action_dim = action_shape[0]\n",
    "        self.num_samples = num_samples\n",
    "        self.num_topk = num_topk\n",
    "        self.plan_horizon = plan_horizon\n",
    "        self.iteration = iteration\n",
    "        self.keep_last_solution = keep_last_solution\n",
    "        self.expl_noise = expl_noise\n",
    "\n",
    "        # init simulator\n",
    "        o = self.model.reset()\n",
    "        self.model.save_checkpoint()\n",
    "        \n",
    "    def plan(self, obs, t0, eval_mode=False):\n",
    "        if obs.ndim == 1: obs = obs[None] # add batch dim\n",
    "        # initialize paramters\n",
    "        mean = np.zeros((self.plan_horizon, self.action_dim))\n",
    "        std = np.ones_like(mean)\n",
    "        # use previous plan as start point if not at the first step\n",
    "        if not t0 and hasattr(self, \"_prev_mean\"):\n",
    "            mean[:-1] = copy.copy(self._prev_mean[1:])\n",
    "\n",
    "        with Parallel(n_jobs=-1,) as parallel:  # we use joblib.Parallel to parallel the evaluation.\n",
    "            # Iterate CEM\n",
    "            for _ in range(self.iteration):\n",
    "                # TODO: Implement Cross-Entropy Method\n",
    "                \n",
    "                # Hints: \n",
    "                # 1. Generate random actions using Gaussian distribution with mean and std as parameters. \n",
    "                #    Use self.num_samples as the number of samples. Clip the samples to (-1, 1).\n",
    "                # 2. Perform Monte Carlo evaluation by computing the episode return for each sample using self.model as follows:\n",
    "                #    2.1. Use parallel(delayed(rollout_simulator)(self.model, action_sample) for each sample from 1.\n",
    "                # 3. Select top self.num_topk actions (elite actions) using episode returns from 2.1. Use numpy.argpartition.\n",
    "                # 4. Compute mean and std of elite actions and assign it to mean and std used in 1.\n",
    "                \n",
    "                ########## Your code starts here. ##########\n",
    "                actions = np.clip(\n",
    "                    np.random.normal(mean, std, size=(self.num_samples, self.plan_horizon, self.action_dim)),\n",
    "                    -1, 1\n",
    "                )\n",
    "\n",
    "                # 2. Perform Monte Carlo evaluation by computing the episode return for each sample using self.model.\n",
    "                episode_returns = parallel(delayed(rollout_simulator)(self.model, actions[i]) for i in range(self.num_samples))\n",
    "\n",
    "                # 3. Select the top self.num_topk actions (elite actions) using episode returns.\n",
    "                elite_indices = np.argpartition(episode_returns, -self.num_topk)[-self.num_topk:]\n",
    "\n",
    "                # 4. Compute mean and std of elite actions and assign them to mean and std used in step 1.\n",
    "                elite_actions = actions[elite_indices]\n",
    "                mean = elite_actions.mean(axis=0)\n",
    "                std = elite_actions.std(axis=0)\n",
    "                \n",
    "                ########## Your code ends here. ##########\n",
    "\n",
    "        if self.keep_last_solution:\n",
    "            self._prev_mean = mean\n",
    "\n",
    "        # select the first action in the planed horizon\n",
    "        action, std = mean[0], std[0]\n",
    "\n",
    "        if not eval_mode:\n",
    "            action += self.expl_noise * np.random.randn(action.shape)\n",
    "\n",
    "        # update the simulator state since simulator is used to do planning\n",
    "        next_obs, reward, done, info = self.model.step(action)\n",
    "        self.model.save_checkpoint()\n",
    "        \n",
    "        return action, info  \n",
    "        \n",
    "\n",
    "def rollout_simulator(model, traj):\n",
    "    model.load_checkpoint()\n",
    "\n",
    "    terminated, episode_return = False, 0\n",
    "    for act in traj:\n",
    "        obs, reward, done, _ = model.step(act)\n",
    "        reward = 0 if terminated else reward\n",
    "\n",
    "        terminated |= bool(done)\n",
    "        episode_return += reward\n",
    "        \n",
    "        if done: \n",
    "            break\n",
    "        \n",
    "    return episode_return"
   ]
  },
  {
   "cell_type": "code",
   "execution_count": 4,
   "id": "ee0dfc4a",
   "metadata": {
    "scrolled": true,
    "tags": []
   },
   "outputs": [],
   "source": [
    "# Note because of the action repeat a reward of 6 can be achieved from multiple steps being taken where the ball in the cup\n",
    "eval_env = make_env(\n",
    "    env_name='cup-catch',\n",
    "    seed=1,\n",
    "    action_repeat=6,\n",
    "    modality='pixels', \n",
    "    frame_stack=1,\n",
    "    img_size=(240, 320)\n",
    ")\n",
    "\n",
    "model_env = make_env(\n",
    "    env_name='cup-catch',\n",
    "    seed=1,\n",
    "    action_repeat=6\n",
    ")\n",
    "\n",
    "obs_shape = tuple(int(x) for x in eval_env.observation_space.shape)\n",
    "action_shape = tuple(int(x)  for x in eval_env.action_space.shape)\n",
    "\n",
    "model = SimulatorWrapper(model_env)\n",
    "\n",
    "agent = CEM(\n",
    "    model=model,\n",
    "    action_shape = action_shape,\n",
    "    num_samples=50,\n",
    "    num_topk=5,\n",
    "    plan_horizon=12,\n",
    "    iteration=5,\n",
    "    keep_last_solution=True,\n",
    "    expl_noise=0.3\n",
    ")"
   ]
  },
  {
   "cell_type": "code",
   "execution_count": 5,
   "id": "d2c5bdc7-3a44-4c6e-9f27-d9550b9cc0a8",
   "metadata": {
    "scrolled": true,
    "tags": []
   },
   "outputs": [
    {
     "name": "stdout",
     "output_type": "stream",
     "text": [
      "Timestep: 0 Reward: 0.0\n",
      "Timestep: 1 Reward: 0.0\n",
      "Timestep: 2 Reward: 0.0\n",
      "Timestep: 3 Reward: 0.0\n",
      "Timestep: 4 Reward: 0.0\n",
      "Timestep: 5 Reward: 0.0\n",
      "Timestep: 6 Reward: 1.0\n",
      "Timestep: 7 Reward: 6.0\n",
      "Timestep: 8 Reward: 6.0\n",
      "Timestep: 9 Reward: 6.0\n",
      "Timestep: 10 Reward: 6.0\n",
      "Timestep: 11 Reward: 6.0\n",
      "Timestep: 12 Reward: 6.0\n",
      "Timestep: 13 Reward: 6.0\n",
      "Timestep: 14 Reward: 6.0\n",
      "Timestep: 15 Reward: 6.0\n",
      "Timestep: 16 Reward: 6.0\n",
      "Timestep: 17 Reward: 6.0\n",
      "Timestep: 18 Reward: 6.0\n",
      "Timestep: 19 Reward: 6.0\n"
     ]
    }
   ],
   "source": [
    "obs, done, ep_reward, t = eval_env.reset(), False, 0, 0\n",
    "rewards, observations = [], []\n",
    "while not done and t < 20:\n",
    "    action, info = agent.plan(obs, eval_mode=True, t0=(t==0))\n",
    "    obs, reward, done, _ = eval_env.step(action)\n",
    "    rewards.append(reward)\n",
    "    observations.append(obs)\n",
    "    \n",
    "    print(f'Timestep: {t} Reward: {reward}')\n",
    "    ep_reward += reward\n",
    "\n",
    "    t += 1"
   ]
  },
  {
   "cell_type": "code",
   "execution_count": null,
   "id": "b4399036-8ac8-450e-8abc-924b7cdb0d04",
   "metadata": {
    "tags": []
   },
   "outputs": [],
   "source": [
    "import mediapy \n",
    "mediapy.write_video('video.mp4', [observations[i].transpose(1, 2, 0) for i in range(len(observations))], fps=10)"
   ]
  },
  {
   "cell_type": "code",
   "execution_count": 5,
   "id": "04b4f167-2f92-4239-aca4-da38c0923882",
   "metadata": {
    "tags": []
   },
   "outputs": [
    {
     "data": {
      "text/html": [
       "<video controls  >\n",
       " <source src=\"data:video/mp4;base64,AAAAIGZ0eXBpc29tAAACAGlzb21pc28yYXZjMW1wNDEAAAAIZnJlZQAAgBNtZGF0AAACfwYF//973EXpvebZSLeWLNgg2SPu73gyNjQgLSBjb3JlIDE2NCByMzA5NSBiYWVlNDAwIC0gSC4yNjQvTVBFRy00IEFWQyBjb2RlYyAtIENvcHlsZWZ0IDIwMDMtMjAyMiAtIGh0dHA6Ly93d3cudmlkZW9sYW4ub3JnL3gyNjQuaHRtbCAtIG9wdGlvbnM6IGNhYmFjPTEgcmVmPTMgZGVibG9jaz0xOjA6MCBhbmFseXNlPTB4MzoweDExMyBtZT1oZXggc3VibWU9NyBwc3k9MSBwc3lfcmQ9MS4wMDowLjAwIG1peGVkX3JlZj0xIG1lX3JhbmdlPTE2IGNocm9tYV9tZT0xIHRyZWxsaXM9MSA4eDhkY3Q9MSBjcW09MCBkZWFkem9uZT0yMSwxMSBmYXN0X3Bza2lwPTEgY2hyb21hX3FwX29mZnNldD0tMiB0aHJlYWRzPTcgbG9va2FoZWFkX3RocmVhZHM9MSBzbGljZWRfdGhyZWFkcz0wIG5yPTAgZGVjaW1hdGU9MSBpbnRlcmxhY2VkPTAgYmx1cmF5X2NvbXBhdD0wIGNvbnN0cmFpbmVkX2ludHJhPTAgYmZyYW1lcz0zIGJfcHlyYW1pZD0yIGJfYWRhcHQ9MSBiX2JpYXM9MCBkaXJlY3Q9MSB3ZWlnaHRiPTEgb3Blbl9nb3A9MCB3ZWlnaHRwPTIga2V5aW50PTI1MCBrZXlpbnRfbWluPTEwIHNjZW5lY3V0PTQwIGludHJhX3JlZnJlc2g9MCByYz1jcXAgbWJ0cmVlPTAgcXA9MjAgaXBfcmF0aW89MS40MCBwYl9yYXRpbz0xLjMwIGFxPTAAgAAAMb5liIQA/6dKSk3tCC4UZJTOYBcCd9uL3JG/fGLY2o5U9RJYGH65eg9QBK/khJWhc4M4424haEBgw48KPXGNEqqgtJXUBz4LHrzDb1h36N8KfC8SWApaLDqRL97kFJb3PWg2uZXSa0cmakNr/SgA/7NX8fjE2nBM0pKX+nRe8YYwWegBQDJlRhn5K7TSvJZ4Di3CYl9+Yz36AT1knSa9Jtt/DRX1Rn9FS1nO9cgl4HWIvu7vu/cvUHfA9XbjQxHz1gxe79IiOxzSE/NGJm7hCfxmiuS8zaAJJ6ZSqeAYl0dS+UKAY3qPgoYGUxEj6AguC1M5Gd9OEjDy/4DN+pRm8+l4kDXgenidRuomhuLAbafQQenPHVyBbX7U8AUOuIyBQdISNGECMZBe9f8k8edDoeceOwoJoTL+P1LKdlmTs4xoM0xfLcM0mUVzVKFW9II9O9cmbncqwheVFb1xZE9nQaNoHzI+rFn0hIBSrO5mld3i3RqMCvHlBVPBnAtctrcaR3lmqh6LTaFKhYub4agGuezAFF6f/I7eaOLbpFfvIdqY/ZG7YJqCsUAqQiBfR4ZEzMlYvCM2m/5W9gU0DJt4u/+yDTAGkxTk8g+kUVSFBTivvYEfZhJ1mYHopKWkY/tAkWVJozPiYEgAuYaOhMZutKgg8dvQnpMRsOvy06crSV8L1TPFLLUQzUjcXoXZbhZ7GCadU3V5Y+0/zssVIxn/ntYhCwHinX6TN6+naIJ5CM/8bLWheAUJxpXqVHRdYNv5BJJ65yvUS5XCt3jgkC9UHujNY8qMqjWfv+0ScCVllIXgi+P6EZ1A36SFY1zy6/oxhFdrqgHrv5dgz4kSnnJc2B017G9mt1C3/cYC00/EFgFsqJdt5b1TGB+pGbNyyfsdW8pXJKyU0JiIkghPzbCHieaGRyZKTL8uVlGb8ksauAnda83n54W4bpXFCydO7x9Xis55Y3iVjWcReRYWs56OvuYIa13FWaAOz5G0mxv3TXpDxnxv67a4C15mU+uup2zgeOKeX6gseiNl8Rcmki0mX/kPATQhVq/obHi8k072rLV48uyTZGXziH9E/bd2uO5i1cjLEVxF+UeM4GeKdpRsG163avi9eo8xO7C+8hXT8QiQOh/ECLTqnTrKeEDmqcKC3UflpQu8EmF0OD15B/3+VzMoephRCpQtrtdZcDuBneSnRf3Xa1qUrNmV80OZS+DN7MTk97Jj/uGqSs/kDY35rMoiQ0HbAc9MdHezna2aAIwEapO3SgAVj2lnnD71Qav0R7q4edirrEnJLlAAzMe/rJQWhd10RiWtyxyCRWM1lQBWAIwyoI2pVl42mv4z6YqVNHNT1qedJ4lPIVCpZvodioVYOMCfUiOwkj4yhcKZkz9ctY2cmt5Y1ac8GfaJ9BjwzD/mDBuFCYfzto13mlXTJQE50bDdtoZRgCC8YOguO86IfMG76DgnX3vGwREfTDSRvLBXfbzAwDztQBt14yHKvEWPEucUzGxRLUM9kY5U6OuWvPIp3QK8bqUP3IcV2BlFDuGj1cXzqf+Hc3T9Mn+Ch6vLLxTXZfxAfTnuBwGzbzkhYp1kXfLoOM2G9kiCrcAiDbKoTqmYecjoprtUBZknj4xfrBiwFRQsKU5XuVVUGGuITXK1WALqmNgFDK7ickKMHVzkCNXl2/97HdeCr8p/BE72LxbuQb539Be5xria9g2PT9AOyLxzxmCc8oBq+c97HanOmkvf6j8vNvsGUN2IhALSgYrGruJQ+OnXsJq0jz2fSY+q6ChhZN7ptl73p3Z/83NGOrKtE9WUydJVzlP+7TY0vjTfRcBDKmMr38ahb8chFeZyFgNpNOjIJenw+UkVUhgpjxrvNToogJALRlOkD7ITQaY+AaRVosy+8//8NuHgcHliw0Qty1RtYakmzoh/bPrLI9kZXimKeXEN3JxE9WM3gM/nM7yV3kstUymICe7JqnxRLmMm85gkVTKTwV/AxDT7k1gP2V/byIEGA8jHOB2jsdM4bUzkeORaNSlpVBEbnxn+6FCE4/tZpAid+4a6OnPnNdVQjH9SPWBSet9Lmmsbnm0rfzdMotVwzrwsNtiuyWU+XrIRiCA4SwX7wEmOAdvXUhjSpskxkXqeRbpRHRkf2dJGCFQpzA93OQyYAcKL7pGS5/ezVRA594oMnrg153ST5ZlxRa+/PvYQMGWydCnjS7i8uqEcMUQO1uNMCYLhx/ohsLz9RXBIZe4f47OnLFKIR0UTqMAW26EGsyayuyh8kn5bRn38OqFckTateKxmfbyE24pS5uSz9/rsUf5pVjmcqoBQvHolQLulDiEMa5fd0hj8ox3sLYM3n0LBv47wJSLDslkD5lFPmxk9q/W7phvS5mxRtdRoL/0Gr2sQkbRYVb0M9H/ghkow4yNDOF+xDgwSWCCcghdHiWG0R3gjV58d5DStXY6Md1UDscbWO2ie0bNfGXCxaSSSyCx8M2pjSQR2kQxBNr9uwyvUx8JbLbDsSr7iMXNGhlBYobwB36TSDCYroi06iGxJKJGv0RTBhSd6QLhps1STTmnOhcpdL3ki3Rq4vzeJhZTQAtTQRHbqGHGiZbNxw4cIqlcheAbOrjQqxilAmPJIAwef6/f4BO6sHBWRNXbA6n4+6bKA8hLa2HoSNBj9M3DD2t9wycBxHne/Zz8hp4Zr6rn52Rvn9gKMWRB4xMMu28XK/hckd9x3fl2hSfPPE7XMFUKXfh20pwdPnTkCTw4AUb84TDJseR/VbL+lJzwwhGXawbybLsxYG+/NCMloTi/oiqhS4o+oOWNqvdnf7a2lcKuv6DfMG67F/rzAHn+83Io9vyQMdeIMgvTcIFG/xPSBO+zocN8XcKhlnUN17EaL1qaedNg6uY5RBT8KsFO+iQZOGpJAAmUe4tf1b4dNLYemPQiKzEO0hsxQmPW8Z69LMCODQZFcAssTi/OGElgBo6I0rqO17VW++2EQDSDiij8wG8v/zK6Opgxs1ny27mT/reSpQ+B/kQFapZ1GeEQpb+63aND6q6UwKQ8YuBGx2fBt+wmUnwtsNFDaHcc301g/LoodxL4vf6+qm9EKuYxboSlOM4xB7tTfssGjQt+0O6m9Tj9qhCMI851wSIsy+uULw2Y/GiTAfOR5zQl2wBOR0/+5O8H4DGumc5MgWmfEixKGtrRH8PgXxxKooGr1KfFdwIH5LFna0FA4H90j0hY6+LehIcq8POQ3vw/VSVo30MIFJghEnmUEVOjb//u4lNlgWdJJEQDcTLXj/QsRoouYbUTE2M93tn7ZkY515Mjjg5S6B/Tz5Uw+6q88JDhcHIy1RsQpOnUEBEJ8jk8pUIbVdisSs2tBn47YE+28Jyc45Sg+dKEEQ/UN51s83HV0oTGHAgI7C75qAroRN3hK9hlkxPCIZhKHxDaHmFc7n+5p15eOW+uE10QzXWwHLMkOu5zKLuck5vDzxNzoHr9t4dZX16OnQ07g0TFlM7VUCQRUB3eulNofqajAfSnJD4GZpgbCA1aaAm+B0CrWgBsmn0g1jbKwkTXFWPUVSbdYbIdUUeMRsZQn1SxaJCW2drecLQzTadf7ei0nN+KwdWR2ERt9bPP22EvriIX/h6AyjLT1omi7J8ibktI76Ftrj4pAhyjtFtS0nSLBL2LD9/K9tNwTsvpXuChXxXxAS67evccFtboMA7PX5czwv8YeIqXixc8PEZeYNxpaQIPVyDlbTuGTdhqKpktI5B7cROaSxIzFqqkuvb69dNGSc9OW8d3U/pXDDtnDxMtUApZ4xuFmTxRH0ADrU+qIUrBnNv2Woge0znOwxnYcUANS9eSnTJ7UTuXjQsjTK2Rq9tThnE6hdpAda4a75UoUadLs3lvteHoISP4t5sHUDiAljqTaPpn9+zRdFPr9dIiVShBy2eZAw1ExTpzZaMz7zjSfDvnd+HfvjwXPDxIFyjP5oDoujeW9aLcqvMKTVuLKtmeIVcAAPrThErg0Nh3LdDiLVZ2GFN7ZOMwXuZ51JJrP+xZr6D6P1lnemExVknKjjeNGeInHXlWqqX2iVLtJzoaZF+vO0XccvCD4knb8yMgcSgF35Hnr/4L89AmEBHs2W6nnE7LoZTZr4rqY9B9akhvhm+m7PkK7AnCfjBmwrlyELBhj+cb8awDjdI0+kez+G9J9eevFuLsPLZhUeysGvm0ADHHrFGsn7SJJBthvLag6ecmYKDBsifHmtCxUvckvxzsoI6yCX7dYYwdvdvyygJ9TBnaPXvhf5LRb5NfoSEfSGyfLCZJT7Xl0KUjV3SyLMv/KuggAzUjNl9ZilWaP8YIuskFTgkoXdC3Wl6UXaeIbnIjdz/JPZSQmEWs6UlD2p/J9XjICVzHjOMqgkOGlUJ2ILA8lRuMqbv2dpKJAJXJFBK+CNC1LLqVHrChj8jtRB+bp9BIvV7UcbhsJXV7Ak5cZNWY4KpT0rMSM79JRvEuaNYTCFjs4jQVGFoFsruwXxeWgl2U1QqKGe3v2dNMGldY3gqI5dkzOlt0Q02Z3LOt6UHKRNE8UKXgFPm6reIOc4LAmSeKFUafBsQ1BXHy8WHCYNglII6+K9jqbnKJJ3A4za6a68z8MkPULNtQcRR7GzXM8G76Iq4G91JfYJ01bvE8lIU8oRcUeISRFvcNMXTiiTslCWbQPZkVopQJBuLeEc2TkJW9i1/ZCuB3sNb99xv9JlnaL/Klt03Jvs0l17js5oRovsuaOOtIsPVGBHrzEZm+4urXBe3ITXzzcDms8CiVa8go/GS+mXDNgK04bygdlpWfrnaiurYQV3/DQSUsVuEKhkJ0sgGHXlIcdyzMXlKUmOA866ROHl+dlY6l72vfQA8s68O/t31akC+6iJralbrSJI2UHJDtakCh/VDi9JIK3M0leiP0BMH1nEmqCmMS4spQO7kmkTOmaxLCUik8k8wL+MEIWNYCAd5RKEPuO4By3a6Lsbj1o6yqToP7iyXwVl1gTmNBU+ZUDskv8dYknnCS/d4eqrz2z11GNMJvnlY2/EfDeW5ayYsKd5VR19S1VeMdj1ROW2H3svuLZXQtWbwJsz1Jiax31NkRWEw7+yqRWTkZSyzeSLIwui1iK7aKRxRWoUmrvMOEa8nqaOxXvw0SVHnt/OlWgafPm1LW0jtfV6Dk9XEPWZKFswUJb0FUoC/IdgeYvgTnEQx8+RufxW1olj6ZD1VeOEQOaGwHchRKhxK01GuKhb2eVl9UNj6XLHFeNY1dhAnXynJx4sVfnAdUMiPjK+gASw6aXCexNzdISlTLBCwDgXNerBXzMFUGuDXme5YwxAl9E7Uykw5w6rVQ4Tg9jcG1I4XnDmONYVpLhpqKMZPJNz4lmzmGAaXN6I7FNv8VUTlJkApv5Xw/j1KmIKBLdZWFfFTMGNe+pEvE+m9MoXuYwvSmPztZhjY404lb6w+qxTSMbGMSvLXTgG8jTM07MvYW8ypb/L4XY/TSUForKK4Zf2KMN+EmQBioCZUkOkdHU13n/uKhCi10ji+K2ZZvki4pxF0AYZMJ5ildREFgWpUut0jS4FZKIRKugkobPRa7S6ObA8QTW1cQmkrKJQ8Vm/kFXXNP4sg8qY91Ub7wrjalA3HpeAAXh8vwGgsE446GEJMVI//8mQbX2bm3piPgB6ZVAn6mzDoHEI337NB2CVo8yxdNOWkDWCoCIt2lJ1pN8AMo54HQj2Y2TAjLJuR/5BvvVvZDxPQecUEnV2ss5t2ED4kv0qcxS7NSrRr/RHxtzUge/eKQxqrBxBeqUqGMSth1BL2BC6XmIRUVlovVnhDNFIsTFqAaS3Yg9/dVFHU3+wEyNTLQrWgDnW1xNNyE9/uLYMAT+cqOF1+m3wiH4daMotLFjGravMMphzTPGU4AB4ORPwwHBJcwf0GBdd4RdTUzbnNvJ1gYjMHXRCmAK0Yxx4OVm2K+eeFghawO8Eeq27jZxZyFaEnTKp807PTbi15GDASfxdainiMJN63V61WSPk5X7McotWSVW6CrwP78L76+j9gm/UIYPwftqgw5eswFlYbDWFoReGlO0RlRadWK+FarAwSE8bglsOuG7kY9WQn9yw7MhIBA7q3rjwtzpbzuUe/smm8Y3uqdiXCb44XKMfu5MSdgb5UDov2ukz/j+ATIk9651envvKIStAuwkdpRQKpIFvozien0BEJ7qlZEECI2S7WPBcNJA9DcyPvfjahqC3Q250OrOdd5zfU51yqBU+rCd2RyVtqfdDvRi7Xrt5G2q610REHeBpQsFVGKVIfXnXLYj+1jrp5Bo6QTnBCs7u7VPAII3EbW0ItKzoJp/WvmqdWCoz1yMlRIW3UiU3p+DzCe7X8hdx4n/03E9OFlU8mQEQnVgVBgYLMImBpN5W8iKIp5xLwEvOX+euWKEjogyVLJLpQnfExXucef6r+y+nJdlP932JXHUp+0zinI+8vu+N44erjNKRQeOZPDjL+D9YIKcfSfXZhSaf01aCXaqnPFfkWwmhgcSbJLEBZwuq1AOzk2Sy0qFtuvFqVJJwUVIKaO0PRHcoXuFMb4eMUEt5pb5sDVhY81yo/mb72dtgImLV11bkXdqSp1i7ldHEbDAXf4MGcHBtDEn7pGfsgthFaELamNra26JKFhvgaQTZAiU8mHH8doPq5E1yiDBfMU5xI5OikDt9iqI18HSUFMuUxDJs/pBVoS90eELz7ivaU9tz+s9lI2gdCoA9r3zytvAL8PrbAhvHAzvp7fcoWH7cgW/X8dut/hFJ7WGC8RAccLlKBMxXP9vREinASwlfHoNEOkOHqm0fzfnj/cfJmpeEM/rNZZIS7h1r1wXaQemmkTduGVLvVGMTwpn19dY4Uh4rgpt7R+GT9aWwa1HB3Poi2Uxyy/BksN5DXXTNPeSV61c68rmuSsrB5Ts3nqLlyxcfEURoEncqK8eS0GGhvE7hE1jP5wJs3kIlmEfyJ3avx4PuzxkHy1kFjP+QmvnfTDYWtAQbeXM9AGlJ0VueMrqNadVrRp33WC+HOeufRq708pjZsFSB856fCLkRmiZWW1sSnBTS+RZ+CPAl/anmAMzvkfQ1OgnX5lnUmY40grMrDY9MOIIqVARP8sDJaNi4KT+OvmYmdM6G5WvOZB5JUQgCQSRScP1BAW2vk8MjOlGleKAVYfvU2hnKndaz8eohZicMdNmpBjZ+NqmJpuFbifJUrfr8eK+lFtLiBUawY4NOBihuytRXs12OFkpzmt5KMxbjwaJT1QVkBkj5GLGfVxP27bQ/JKQnzsaU+qE89WkPs5ushBKzq4qosSlKJe7zyEcikru+x9/Tqnka5DD2GJ4zq1YjOiJji0PfCxaBbCQt/MJqYyKX4hEGC6XMtFgcqoS2wrh6RLwhVXyMo0VFKY5QGsRFBCqTUe8leSEq7Pq0jW210fNOszuk7QQ3kxypS+517x+ib7S74ORU1sur8BbZ8nqNNN/N5OT7SPwIAwV5+mKCDhG4gDG4opkWfiiEhnXA/H/XUF1jwqRwyAOzQwCeFevocyEo6Q88stES1UIrI1Ih+6gepfwpXXCXl8j3ndOoA3vATHZG/sV5wDFfcmBfWfO0CgnTTcXx4nNa785BOkmvJAwF0d4hb+Ucqh/nKthNZdF3xcdh6W2Lb4fiYxlW/SxHp7K2ppFwFCM0fkq81A7+2722WyaeGM5CpXG7ZvexntSLgkuF3S3D/zNoGqyIx9We9flzQIbMt2Fa3d4kl5EMaeDL4hqV6NVndsd6fqGahRs+EJLgkDTtVZ0GW+WG9s1cjAk3LVdn9N+pnZEOidOUHSNm76jdxKB/ofvRH0Gu2miA067ShvhYH/AtbNHdbE09ixXBlO/97ktCkDLS6irh2+fSVwXSVHmetyz3M+fd7JN8W7toTZ8rNndgnywARHv1RDWyYRPu6vL6lCIclaEVcNTYz2ge0QWPZbg+frhSp28GQM+Sel1HGfa0Oz7bImedW9rxkUxsNsUPZi+K9G+XFhVCW67XaiUMlSzAEF3YQBx72NzKnEpENIcxxK6yqrfjFTSjP1ZLJ9wAAFapy3VOrphJgBnB6LL/IB9l8B4iJsmaxwrbJTHJ+Rn39St7DIG27FCpXVT5dHN+QOZV2jgQIcEfzNgEE4/Ul9PHxpPpn8LEBqKu4BfB7QEo9+J+4RxwOMWxR+27UX1NBcdKP5BB2OH5QZKGvJdgW9ei45di3Nuzz3dhNKNTX9HHNeMnmb7YA6uJZ1/4gCWus46nWhLNkiMvj7QP0p1lyjSWzOnATmz60NgTNjc67z+eZFekIvoX78qWhDp+M4V5aF/PnSeK/6g8VwNZn3PWkkl6eTavfKp3XfZoKWMlFqfDxYizNc6SlnfJYdApF2Y0gdAuqYbPyT2AJ3zVFe0G9ZzAZifvEzy0uRG8LExneAVJyjXPovfRRo5xNPhzKrVFRfBiTrngN6qlF4AaGrFlH0l8QAQKIvi2GJrNxD7OkYmW+4QqbePI/P8ZpE9XkZ/O2SpCgo1GI9XjtQVGe5e23OZkBb/Th/fD1QIXGgfexLbUxQ0nAQpKkfIksgoZtSIYg5u121kyVu8JCzD9TaVYg0P4v/+WLco0h/7S3cWzaunj0oSjkVRJQfU+zeHpfWaClon0rB4HGYSZvhZo6RFVLCcVdCt/wm0b73pKujqeDvwtVfF1F3ZTciKJYrWXWtkSICOBkrkc8DrXPG6uvRhMAVfRlYu8whPc2+rOi+VDCFR0g98igCpvNk91c+lKgOApghn8FSrLpXShUjCs7Kd0dhauUKRDPfHPls/ols5gnacvjPUibKFjrxrv6naUtDGaBOJvSNUI/OZC7YA2lTR3iAwnp4+zFrURz0StsqjgeNrYZ3RT/LNAHUNtpt1v93KtVYztTSueMOTBk1Voy8Y4OmuKWXfX2oZhKllBybdCxjnnQJmJU0TuLLV7VEX/LnETjAniNfqMBf8BtYF/gcVYpeU9ZopBkZ2zZjrEevtkRhuvnXrqvvZ6e9Xlkb1QzKaR/VZhJGfgdhMshQg54zs6gH4d5LNx841OPmQ+M1u/H3Nhii9OJD9RaMPNhE2SKJJe8w9/4LtmW0aKWyDA1ExIhjqESKHdi8d+gW+9zVoRN5Xu2DQOlP+cW/r8ZW9wDD6IJV0+UT1MnojpHZAwV1OzN5zG5UCWk3yNPcpsCLKLTcMQMHyhE0wN7ppOvKtDfdOVmDsFpx38JPZfXLd3RPRyFEEo7S+3FjV66ClrXKZ6kEiwXhGppbB7iKK8DgKvnhVrXj9UAu61OA8RJXOJ8NEaQSvxa03BCQ6f/v9uOo+tar2VV2K14j4yuxc8799r2qj7wPU6ikd2qonUYeGdEryPwAKFo9BGbyWM0cfcZFDVQ/1HW0cl2//qa51TSY2YhPniah6D8NhYI9l1GwbrSEI76yUmR9hwi3MGknfXm12syMY2udNHGMh717vMUP0sz8XpApB2hgofLt6n3pq3nlaijHcjqS5JTna/RHSWvmy5em81QQ3XrSu1b9cZudBKPPhq0hQ6KZVM0mjWEUSPHAFPIW1L/8hRGSTvKRHPb8sbeoDIAuI2r4YBaJHOwYHbNQ/3vz/s4xm8WoyKX+qlIc0UQ7p5tqUg+3yzHTy46vQXU4EAvySMa3Pqxfo+/DSUmAr/agX9N8iDd8G6IGAzIt0dPHW9rUYvx3xwmrnNkPPDsYoQeQaeZbv79PBczlVtXgpmETGMPRYn9Kuw4KbtkFWNuRIeKc0GyaIiqArWvDwIvlKe6pQx7MWfqC1iaGbLsQ7zwVxvjvQUjPcEcrmb/nvoOdOjVIjHKbdIW1yOYcm60n5eH1BaHgaryav+SFiRN8ikQrbSq85ZB8rtPHlgEXo2nq93fujE9u3rNgGaWo23XXMVcLjfCWVMPcyOAyNRQ7+Hx59NapPYJrmDD7vsQ2T7KO5KY/9EcSgjmLzXRnPY1PyO2cGPeZgatNpaeGV3pyA8DkPxnEQAMhisyjJw5E579kDLCLetvD/cKqto7hVBA6unhAtWa9o1Tsjlytgae8Ib2zrX0utBZQTuSzATKnE8ZK5aC6PbnXTf6HND1VXpITQ98hwKbZPIPhyLADUMyEI/oRXDE278K+un9MU8UWDp0117ayDC5jOwpo+pIWBMCczIfLlUI7baRiisUeoQ/SBgJdf88WoRbHm+AIIJuM658o4sLlHJbZQWovnFb1K4/XpplAbLAiMvU3Amp/mFSsM0pSVmylTBU7aFCPuYnJn0WCk4f8jfwvY8NWuoFJBxeWFjhGSfnnd4WCRw8OSD3yoetYU8yzaofLjlwGUkog7M5LatR6HvkZ9vqtgJbBTeO3X8UlYT8xXUoc/fFAMBaWaM28LoWnvacMDNaEtwsXpkLN8Lo7kEIUVHo0axGNUElNNm5yNNw0R9Ydr/JKFQ7RNEuqFvbzwJTdkANQZZUE9VnCMWYKDGK0WZCsuOrn+ojzGAmDzIf1ruyjXW1x0eHYkqifYsuxY4yR8YPynmZtohtam9b156aYEHbYjWHSVsI8kkcmvts1zUqdg/NCWnvzwwmEAH2jlEVnEorytM6BpCXXNDRiIJR3aJgLIj9/BJV6U+JGgUfiCaR7Mm6TyDwg3ZBiVyAvXEH5ubOUmD9vdeOWgVRyaZrWgvVSByPT0XrdwenUALzmgBmU8/zngI2RceAJKInTaStohIR/k7g0AsTdrEI6vfzWAjPRYE8vzMFrP06lm5Y4xlGo2d7021G7CJSVYoQo3Ky843SCymhiUJbTAVtli6AfTNFFWCYSLi9di3SQ8NDgIkPYZ41A7IDKgH1v+upENTAWl2O2PkDpFt45IGUIK575X9zpKQOy3nG2JsFCcXFMwnMHMUb7Hw7ae018+Qu5rw+F00Ezaewhe8/RkazsF5+bNNeA9QdP1LKToNOcTBn+bhJHbAZTDObSXHF+TKHZF47iwxM2U1Biq4dcLp8Jc5eLc/5f57SvfzpgNrW5lY6iOmXVxqWal9oo16oleZQ2c+RcVb6nm7q4dYwntBMJqwraxVz8z6PDNckTFNH85KSy6rLqCY2r3Nmd0RFt6WRpIyE6bqhT5hpcvkIwggB+SwV2LZMtBmfUtYiGSDvSymXaX38QdI8xn4Dy0yaEtkG5Bl/Qlecd6Mq/nC/t9MNbi6ZtIsEXMzr1V4Oq1o7uNWBqVMWCG4xpwmMR7wWdJ/nxA/Y/3ZyLxqQmhbXKznFqBlj8YHULJHU1p7G4mCplPjjpoqM6YSrF/BvUKJRpuUgCUTyjR6HBSh6fCVI9SWBOoqII4lG5LBtreaIZtCfWmKheI8pd2opqqE1KX6enQ9xKih7esYeA/KvBbpsUlvPIDZTxsbna1TuaaWqV0TyQtXUglt+Y+YnLfipjPrAA5/JDIK9xVoVrM3Vt/CvOqOlW5tVSOsX8FnIuRqLtU1fgAyudIchuHzJ5m7IDWAuHIDBGh7v8rznwv/1AvdSLd0a9gjajZUHOpQoCtGvWFAs7yfucsonXvo6TVUrvRIPGpT9VZ1Qc/VRV1QoMbY2WL6qOYA+eLenfdL/RLgjM3zUh312Qjaw57RepfVwP3kIngY0qUs/jISi1eOJIb3mfNEDUfHrPEukVpoaD3zOk+Ki2rTTP8/0KREm/97Ct0pLEgRp+2D/gR09hkPLfakCcWLv32nVH0d+R4N27I4IxL1hVNMTiX3rPlH967sVWOlgCivv8ThKJnodaYohDP6Q5K5HBzjWOrdy/9+KvBHOFv39muX6s64TlHDLQgFUnGQwlLuVyLaQRJSpbf28zFSw44JMH+B3Gj+ikrvOwToyn/4JICb6/cq8j7zKi0dSQdhZ33T/a30193q7yY0MNbYrofoToDl1cij6CikYJbltSYR1ipCybwXhgbS7ay0HcKylUcC8vRzyVHS3t/XSlJr9o1APdiv/IAg2oU6/QPNnx74lLEtROFK9ijHEMOV5DBL71tN8LyQbt/PPu0381jBbQ/Z/fUH9o9SPBwYkoP8zjAcMJcwcmjIhsAm063KVtBWN9mIjobTDGBG4D4HTDlZjFF7TC/DOv6PgXC9ByTueyWm2vyNv21gkuWNoMDGtMss6UnnYmQKU7hGBdFidM+WTFvZzfze3sjZ+Rf2QTTGtBCeRDGe0qgBu9tL29tomWBSI+CvKu3DOjOzLZe5G0iOG4Pk0SFt05e/h2ydvZezAW/zpDhkC7x1oD5bXqJwfmPByezFAgJfDLAo8JZVYEMgMiYhvPwLICpNW7yVj9dZsPA5qIeWWxwXk8SZftUHPbmH6l5zsQwezyyvf4bW1B0dz0E1FhACSd9+MYPD3xDgiTGczCoeJlidsL4H6WVVoPnrCQUg6RRz2LhYavYZLbvmeHmZ/uWALPu7XhmrBwcw4VXxm1bbbeiWn3Y9ZM3CFBp+zw6AgokJematQxA8CkBRaPqqCTbVLHQhjhXX4m14k1+CVTAwxf2GSK45HCXiJum1cCuEy1hAgJ3tXnNLbkMae6NOxi3YR0mbKsYmKzK+/7Z1bCBkLp7YDQ4+5X85zAM42Y4E0hMJhMyLAdf87DKgEuMprlyZEq7LAEIFu1ock9vfJw9A8C0GSrLK955VzLp9n1axx2qRdubDkGl9CXqESXxf+WQ3IlL18MSYs/+zshWKryEvmADRKHjtQraWNVgagU3ivWhu3oT3BtdYYn3OsdjRhgfe5RJKCz0ulNO70b4QhOJe03vesZnhe90d/+Pi9C7znsWRi5hQYJPEMe3TmdYwuz9/5i0UkmP3GSXEXLp+uO6yDOfhe3/PZh/rP5mrN7KEqFj5F+4+lOG6a/wGZEArPfiTdM2mfJjjTUKNSQW0VAFPjNXHUd3iepF4S4aLkxfTb8/GyCDXVtbh/cDITGy+kzmm6QuCW7EpaCFG2EadknXHT8CHI+MRBNIbbvLs2RCvrMKS/0d7Y8cckaRZ/O4OuzdfMkGTazgCFeKPmOtK+QCzry5sJsj9kE51GR0Uh/ESheKylbOte8e2w8FQqWk/ZJQjzs/xHtZpQ96gKsZzDbV1k32UXP7hn+Y7vKh/9zuCNj13/aAdqkYFOkq0H8+kKQbp5Izbl2rKx2dVtrTKthfc5xK8vZEwEAWGWB1PBs1ksYGdgf6lqrxr57Em5YvFXoDIbqLL8Pqc/KNiaGrMfWuXEobghKiKeo9bbSZluFAwY8PS65deEkllYbPPKzHu5Ic6urki+WY0r+g/DwMqarnXhuvmqrCL5ZZVm4ABjRYp625c9YIs/fExl24RZsQEIJ1tgBPZkprJmchnlCA7ze9ZOtxGBWsQd6V6mRjCfz9makNhAAALZxx3BDpBGajJAIAmryHSNeNpr82xCruyUxd2aN2rGvNDbqtSKkEJWdk5eVOR6fp2bIocDhpvGlgwU0CMgvhtpje1/DhIeLZvuKz6FklOAlbOXtmz0+2dPqSvekVjZpuSudQ7aQIfh51DvPg/Dl2CtWFURrynpB0E44+W/vzRL+92hsucH0c0nIiIXkIa9dgOWPvsiq+VnRCBNJJuq3OpsLEfWxJgTR6jRu+Z9PoHkmy7+77Fs4hmv+CffSJcutDmgPxaZdRNJS6/4NlKUjvfcJbw3wlKf6M1KXIrK8qQf5ShH1VgOplkOR+9hN1aDTjQbp8CoAt/+yQBO/Qkyk3rhrTjSrpMGQjjwqOUYTr2dXeterWf6yzEjYWH64iIuVvIVqZK5nIzXgHO05LYFHK6BJMswADbk7fQQSNL0jOYzkpzdR1lD0rQH9yu9YO6/pgwbfOqPKoA93gt9gDrIZbf6Sp6AVQLmnbxejtOzRJKd+Jcu/gw5bNiUO8UVq56u+o0bHF/5pT0ZoNhlXNQePKMCkPXessfeKASZ96B/ObiPJPlKQt640Wm+u09ssYGYT5o1sNnrtsx09MyvYDSJePfn+IHqO/AM9gx4ajl6NUoTbahJcdBfhIlCJQHNrsk6AdKvTowZ0SVMRhWayCtk94IQxy6iBB8C7VNtDMNi6hicyTT1tBk2TJIE1UfinVNxysAItOwQ8w/NALITPinOQPv3JcLuSLEVMbx6KERzepAR5C6IVwr7+IWUUd8X+VlsQGEaZzFICCRGYdIJzEgfOptBZWYCH1y03xugqC2Zjezckjr+e4/jhaDupKi88a6NPHueTh1QEVSGBrxpEBlynxWkhmgK6ayVf118+WbcL82Exj/USFK0yya1XGaLT0OO7PJwMq5syLWSik6m9A35yaBhafZm8zNZwFFs9Vqhqae6RWjQzAxZucd6Ne5H6ohjoMCz0bfLVhQsfHUc+QACF468xN3BvrnfTkvimD6+cC0cCCfTaBJhk1PjYo9HeDor3vvmbm1UQA2SfjSA6ipVHubZ+folAc0CICyeGbjmo8RWdRfyqZIMm7y8YD0Nwfy/qVfc+hy9rkNm97EiMQACfPTmz31QwdIgPlXzFV1P+zNF8I2AG+eOqbsBWO7MMKsRQJoX72BBwOslDBAG1lLLFhS4gOjylTKuqHiaKhMWrsERQXMmgU8KXiFV4xrlP+D3d7jqAUBYADDD711M+rMLpYgVjfv1rWn6EI/5JnmKAp5Qlp15T7AzKUQYyXaTEyUiw3pIo3QUl+UTnGfdINx8xFSRU0hN4clQ5QP671mhxw4rAUYAV6cQd8ZM9VzDNqjQaZ3lR+M3fLnUIueN6QlU3ZHQl/VleqOc3CWhDE6z0OgDECeIN1E7dJ6b+xeWn5riONhNDChRGY/xka5oBDXR4CDLucfI1901Xu+/O/qWmsl9LRc2Ct7K74pQnj78vILpW2oyVv3cN8N86SlFjyEmqFqnEGmqUp92tqOIGC9yvwA5FjMor1o6pmsWwOf+wwGqEkfGR1idd/QVuObp+lqL9ofq5l8b69OUcrng8ozM+oUJo5U0keJZcIUp5nwuJLnG0MJ8zSTuns5tOG/HWhE5R7mStcHPs5dtW808VHv/+mrGWGDOZILPvRPuBrbu/U9mo9vUAk9CJ++CHwneXJtvI2gcp6RrQ5jsluS+d8gEKRFNKj9uvew5w+Gkf8PctVmP0OKAACWBLeBWtseC3Y5nZJ+nbPnbdi/9OWzrlYXz8f01hBExTG6Yr7Uu7X1IqzSNzwtABzO45mpgqXfhhLytCSCa3dPW0TKAIQ5isNil3SNqWw4RGK6l/d0FTc4MaDIkLCJzby/27wgQLfhjtYhKLeE0TTD/EVgBYOh+Iet2ISYMP+eEDjo5Z8494wXAy1D0WUhWpKtbJtLtl/HoZBv9j5dgKcTTtOUY8nbKGUE6w5lvn++XMUvGj3xRWgIlX31+nz/D38G3FdSu/FTDZfj9bxfZlbPgtY7a/Z+mkCENdPw/ECK8vUCeGp3jXyH0E1e9FMen/dvxIBACvCyJvMKwD7/Au4dfNmS5b6BLv0lNFsOgrdxP4taWvXK6p4YiZj4g7a60eaYY5PQfOw5iOx2WKaP7HMT2doEIWn/DKihik6tFS+8ZE2zsyrrd7iWMD+GmvYaR4BN3WYuzf7OzY0Z4HlTOG8QJV6UO1cWXmPFaJdi8aK0R2IB/evYRgQ146kT5r+BAYEzXFPizPEA1daTz9FTf/K4Gy8GlfZDq9iPAusOnRzHPw51vQNhz30QbMtIT8XkZttcgTdAIaAbHQiwiaLTGk7JjlWZSHFsaDfGOJM43J4yaz7X2wQ15PyztlJU4ZjOHyaysWR8dc9pob2RK3M2ntf9KbqkFqeggV3EAAInXq06eVhvCx/KcyO3m2595DnuetgmMrDQFEy2H/hrCfJkxxzxXprKbxZrnCMNbV5OKRfuMXySYKrrVwzQLZx8/Sh36VoIXYzhIgvyy74Z0L24YrnnPidICDjqhlHpTjaSEb+aFNqnkOojh9c1xZki4qIvolleVylWNu65WyBpTB3jd5fiu81jOJ4fixD8Dnip52bXpQiNB6UUQFxrqoz7kv5wcfBSamo+EDbT56A0eEWntdWVqdvRAQlsLJ5UiNLP+j8qaU3xrRhL0Me+suMmwTJVky7ORE2UZxFZngP6kZrg+25QIyF3+3jrZFSip6XuRB0pUfbFPvy0EDkhxnYFAWSscC2tuLG2i5ny1R4ywIXv1t4cVpB4JPdPVKBE0g3vhOID8T5QsKc084JSPW1JFi+Tzp7ggfs7CPZL7sdd+mydMkBkgLMEeCeGXwV348sUpIY++6WVU0feXsSe6A/JLa1Ki9XBPMMDd6lZzjyegF2uenxXdecgyi8ahyJzLhL/ADkbFpNw+s9j+WLlL6m0SQNY+dDVC4rmttarIaW9Y5jrQSpoGWxlphviwjepm3mpAkRYKOU/VvCUHeONWCPjGEzNONA9FgC1yhATgNLp9HfqFNEag2FSsFcyzEQ7lQn+xEowmzHLxvZB08aPZnMpeU0f/2cZPNUEF3P1KjNSPaU6XBkpx3XVEG/m9sCWQj4IrxIak3mE5LFTdxIA2VWKT7pmFYvughxoLmAOFf8PqIqkf1g0lgj+l1EcnF/UVr48RZxYrA/V6/OKMoLC4+y+nYmYP/FeRQNaErtjhsUvzAGPKMFPVqM6O9N1NC/AnAWGo3P5CnMTRrqynEg+jr6B6RTInUBXfqHuG/smxU1dl/tnhoHn65ULFJIf/Nb6CZWw//TJpDJMiPJqRu5d2iQRiDdwvOli0CFHDuqis3mPprfLnB2ZQ9BpfE5expS7cFswzSaLhyAT+1usAqDUaen+eNr/bFvGwgTkwxEYuUq7rS7FcPKODLn/KMqKdYf0LIIakF4n4UlLgFwKR50VdRbtMSTDfyB8ZIRpXun5mj+9ep2ASJYvl486rBNW3195bJzgQ+EpA3R4XUnnd+/hwmOhXt1B+fw/P2QPlR3cRwTi3vNyr8DQo5LXcBK/vLxbsNB2LaEvSIF+hbvyvOpApeBWdou0UntrMfG4m8xIGQUYJb2fBH6e5Tw6bHxayWxItLPfxFLrRzVo73orfsJZoHJgf6eT0+Jd0GCQsK+aSzuz++S0dpVzIjUF8yup+WLJO+nFrMq+QAAB0pBmiRsf+dSs4ZkfbvHRlwlmds0oTczXQJNxkh0RHxMWrwy7CXgnkbhrHKybGy5r/ooCbW+3H3Gn0kPGLBjZ+gUrbD5/YjLoNh1XdbFf+muskh7OdK3nQKhKxROJEe0ZTOF+56vQol4M5Zmol2IY4AL+Yl59KaE8QqM+n/FP2IyBZhhxxyj8BwZEyB/i/VpChxsStksmLGoLbbKA/fQCWwevVN6o08KN/AEtn76o195FwusvH/XXxNQSbDAgEXEO27/BCIKCyGE5AIWLB8sKcJPv7kEE742l6Fs1I2yD4dNR3EnGbGAG1YuXyIPpwvBnlhqCu+1N86BZJ5YXletEY1HDle0HC1OMJM5I1CW31LidKGmpDmXhmKIm4LU5Klp49Qq727h6Y7fTYHBb9COBC0TDjAJIORjMWcKSrE09IaukzsppE53+95EipGmtr8jYxg8eqQ1EUriZenHEpuBc3OuSBB4JkSOxb630fLTo3mU6tzNZBO0pTIpxUAteRdHK6mAary17d9B5OhcHMLoY96FyglN++xkth5wdPz8rGb0q6fJkklOMooLVyQ5XeTyIlPLEW0bfolICAu1wmNjLdUzltKlVwYEIriIflghm3jGa0wE02r3JMKjt4eAkiFbqgUcdmA6iaa+Z75D3qGdWd8sLd8qoCLnj5cfewZp37h06ZFXuddyq9obRk89w7V6fePvJAIXNMxK3NoBr4b6SqJKXu6ElcpdWYJ3EZ5oQpufnNCRAWJR2NWBaH8DvL2Er3Mwa3MSLWuyvz+2dFVW7uXGeK+CypafQrajIeEBvN8AC4OjNk3WZV2AETKOcaxPGeY3HRmvqkEe8zqL/8ytyxsYnXbi5MvL29tQ5QnRrGtzW5nIMvGqgbaZ5PgFnnNC9O1qAH3zLsoZtRSOA7667BLefEm86gt/Tu9YuoQ+yoQ1IPhtTD1BpdiqWkPsRIbNPk2mPBNXRR20m9CA/ueKq15/hxIWbAa2Ej2lP/ZUFdHGlvDwZPwfYqPlhIMqVw/Ymd4KguDooS+A/VNkVsNvByRZAuxeKD1lSrlW9aoEORzrvwleahYIbmNogzxLrU3r4m7tdOCIcqRBKBdfWxqMZxbFC7bYgSYdUx8AHTskkHVY+mgnKugafC7gMDmAC4HrWOvY7LQfVRsiJD2YliHuYiE+T9LKWU2ZuEo8gXBsgDAgC+AI40FqtFON9PQzP4AVIP/TMcp7wjj0wWNgxvUwLD/5huXIGzkJ09DfjFPiM95ntM8TjMkGrN8K9v127AIY1Utzl1IklpMuJklVPe4GgCuu2cm5oMwp3sKYFKKFgYqvrCubJeGGThOgGnMMPj3mOfZQf/Rlsc7P7Q18F8TQLRUdY1A3TRJm4zUO2XRx0voI1mtxXPUr1GGn6NQ4CVVrqH4fkq9gKF00chvv1INwiznyLT8V3I+6xFCwTv4MbKdExqT3wvxMJBpM0+xkFenrloAQig0JmFtB3L94h/bw0Nj/FMJVTXjjuuJQM2VoenUuLHxBe3yZSFp5el6/tKQ72YUUxGsoyOSX4AdV1/DTcFmnG94PjpjMibh9sEo18IOXCUpSV1yNmCucGsFIZ8mGRL+AtE8bh4ZvgsX2Y1e0lz8haObjxMm63Z6MlKo7k2ixOnSBEBTqOLB8eT6mKic7x4MXEupuEyoCsp+AixaezeOh1ChicJGZFbbZgR0cDp64vqjWseOJ6yl2f2n2uEyqO8sYBz8S8a9o3qThsCuFkANSiBjI/RDwritV5oUcBZgtDFSvDK2EA36vxGgnaRnOofi6YyENVsgEDJMbaa6jNYqrZOjp/gvZ5B5Nx/yRGC9kpJDAj6gFMAiZ3MVIY6yiTTcIEoIwzgVoiDdd7lRRYQMuJHGib1ExnsYAkW+pHaMxbaJ9GxVzierGd6006w2Oi30Qita8qCjYFPDGl9kQRiuynqwgmxYK9uHG6/nmhsFgWIY8m2jv7aaVvGqDQtnF9Uvgv1hTSvK/pgIJDUqDmCNX80f0ribRAq2dIxZlYY+fac+53JN6DUeLkWhfqqWdfMK+5xQtgqIWy2jbRuci1xaXWoAS/RiLoO+q0U5q8FvNuNhANKZJ8zncUZM+64qv6/fcnbGnhtxBCL+mHI7wQP2UAFku5BYIyC0JjUjjishNbrEtzBfgYw4H5E+A2s51ryLp1kbeIDinyTP32z0yHGpfE5KMyRHX16fS39F6ZUXTETf3Zytzxc8N1YNLjQ9mGJu/dORQfOHWcK7Pl67pTpT9R+qOgqCrIyhjDDEWfHEC++iCTr9PRLDYLgDF/HuyluG4SeV+3vxHCXp7Gy5RrrbwsHMKR2Rya9Ej6KCj66hpqSOZHE0FJlBpTM8wFrSX2N/NKICYsL7nLfxmagEZaRYTVJErn4G8ve4QZ8tjKc5zRWMoV9zHxG2tqptZ5FDVQpNutcr4aTDO77oEPqxnuGxmrd/ag3uVyB/cmfDS2Ad3F6QfXfIyltX1s5gAAAXUQZ5CeK81tQoDSIPA5hPgevgRv+hZZd7ZQgMLxeDSGAdIiEDNaIzsMi8T/g8Weegy+vyA+3AahnqI2QpiWCW0VQc6xTQIDJNkC+BkAIoX5VM+Xk/44D73JM3q88M7r+xs0JKj4Bd7V4vh14GQtoZae9J48blVDI2U7kOS78hJ2jz6NvnpzpEabFCtMviYdwig0k9sXQJusnL47PFOTV4/pIw8KLU0XRW+eC4CUDKdqcGFaLwb3u8Kv7DAz69GtfEs/y62sN/0eCZe8pSW7rOOtvJ7XSYd7j92ZH0TheeXXkpsEmjhCx26IGuSFgcOd5iZwnfrJzpG7k5icM4bMMGX6mcOourpDYqUjABByFfqUMR+CUxDnEOz6g+BPIiX7yAkc9ksbEKujHdicliIC9X/5YJKWx6OWoYCW0m7Y1otIGAXCbtuOab9mAy42oTtKRxgqol44qRAHTb6eOmE9215aKAVugleRqKZmRjIkE1mYbGAjATV6oz9L3iVQ+p1w/6U+ao3xA4klW6dBEipohFzn7IvZgUNfDw5U/IWiMrAqgBEND2k41Hu30wCHtvucOGMouGSZ7Wq3nSupCVVhZ1150ArC3akWIUu8nLjHt7Fgur8oQ7p/O1Xc5ugilkfUM8TUZ8k1TXrgIa+61ZTHr1C2LQ17pMelDr/AYRfYYMV0gR0IiWJvV2P9HSkXTJbGBMwz4F1K+xb4XLtmYJV6YYYr6e/vwR83wm168vwBj0xTnNhzT73wvpaViO/qLqk4C5zWsksHsuG5qC5Fo5lOXDeXK9ebT2Cz5Bv5j4z5+v9jh9c2CyK9LY2Meayse9qAQ8IkZnBCq85l57+fur0ozA8D/E9hfg4kgDTJ1n1TibyWp5ErYbZFhNJQ4fqtg2OPmaPQzVtdWNo2WHg8SrTCmG8hQKoJGd04deTjSo4DrsiKxCOKvYI0/8AmFY928gYwYlRF2YnRf59oAr1+bFDCSt4wFzzCpU0iHX7o3MlQydvTgULXfsyfijKp4sjHUbfk807c3I4iDZTX1BwdKCh4vMErny00FUCy5Ju0uVYZNdlj4PybgDxSQsZg4BsAp2/+ffXVYdQlW7AhuBjE8gClxazfKsqpSdWIgGrp+2CBAkpuux5ZnK679rqKtYFN6VtWBZJmh6/Y7VH3mC6bh44XU2uaH+ay1sw9rtYSR475OYEjqLwfYoxG/HCEOjbvtzFzZxtZwv1zSj8UjwRNLAWzia72mkjffD6MKRrZzln/OQCE1xc48gxpAGX2/E4bBmActTzFC7VWdORj8BYCB39uT3yX1Q5ELufOFFPTm6QTo9CV2M/v1rzWPeXeIa3jk0xsdfChDvX2ot3NP77qVajpjVmU3vH2WZOs64mFKBoxIuC0xSvIibE1IsOKEQtpxWTbT1Yr95tyrjKKiEljqgTMEDI4hKQoy+WRUDdAgTljXhkwsnzmbivow/FJJReZCYizQWOayinnT+/MlfRQnAwhyFuMqPQoziWMpQPZk2im8uWQpeJzHkCxfyrZERggOgi2s4M9XDrgpXVWfWh9BNCjO3mra1mzeV8OlTrHL4dHFnjWeHmROxpKI60jyDHJLWIUNO4pttfJTSgdy8eJRQcJnvTqsWEraf6pq0JQm+nkJCEyOE0A3KLcpYNHHIs13DTLLsXkw+20c6E8qTTrjavv3wqBwGbj+0eIiPgCmjlV98ejLXAJvyRpD07C4ZK1LwAK7hoidx+qRHuSWApn4DISKywUpVVNNwLW18Mzw2Kz/VW7zmYlG03HV8pebtUPpuyQBF6E0t6HOHZQaATSe3oseLsu4olKpIrHBVv9KQFnbDTwsYge4unTs158POjx59Z51QNbZzfuC3xnWCmDm9JCMg8RBXz5TKwstFFEnTdCXK3CA6LS6la7b1yZZpBkwF0TT4sHuQ1KygZfiCdSBKb3DOKe/8VvVpUajxhYKsNJU0Fz2pR0ARRU3M8wSGEJljIl4N1mcCxgQAABOoBnmF0Sf85SKHHFfjMp7n+gTHUFXY7hoqlHX3+DcV5ly7rW8MtXUOtHb8Yn2wzSVVrdvjzj9+outlI/moSmVcjYLXqi/nUTziE92b0ae6r00i8a6tsf/5ly4W6dRG98HG6Rf+XAJ5KcXXH6xnA73Bae27qu583E7c/u/bvSNDzjz5mTZp5dllk1qpp7zy8aXdlCOPpLBCJsn78FdIfXXxyGwHGToCEK3CW6OJKf/83WYWw1MhZGmErg02m571DNOngVmtzVwwIrAOBcwQXkTGvNqT1fmymDhDxsxKHqrpHkZwjffpH85nKJZ8ZYseTaCrpcNZLzDJsxS4XRltbb2qbEY3WqM6YP6KOxgdCphmHDibD9dpLmTP0W7gotPwO6DdBEihXXViu2FTrWquUWGq9wXnF0dNO5uE3K04P0PheR6P4YnGOSCttxm2hlxpVMKSwelx0ZulnzBD/KkGy3Em6/j9UW/P1Qhzn6XDwI8KTdOreYrZsaSTfxf+32DKCAv/Y8DGMZVXw3oRO4EWA6q3Juvyf0XCSnNc7CC5XopEZAi3gWT//ULzZG1a3I8ZlsE7LrcVZvfI4P4Ara0JgCcqQh/rPwH6v6LKaSsPo87cmuK61Ni7fwYAwySCuheGOSwR3fpzjrve6K0Qb6na2yGN2Q7SedfWJyYD92w/Fa89c4JwJb0RHPRzx7KVuSBytWCf/dWemYOkpDSOIVoRfQReqVyVdn4q8yt6blpLlI27FerZPDsqe5yYRFPhuPaF5D6DDq2uRVTfIV3gt3eiiYr2TyCJlwT4QDZPTA+CdIu8Nh6bYszsFBVKxYLeyUDPpzAik/NF2v5iGu2njcHYXAE1nRMJgXfJHyp2lolB4pteWx7dX24SIJo7K+eoAYWhorhB5drN6jV3atJSptPAfLfc4Z4Sljy7K6CR6HfSVvW4/gVh7WhnSCpPQMkNcbbO3/CYgRp6bxTvStWtuEYAnvoCjx7c6AlG8cWq+ewOI1oInHCNxWr4LLlxP3AAxEcX3vxuJ0Rb4rzVcXE+yLkhmYZrD1iz07UEUbBE7cHzzzJ4xmUzBH2ntl7IxkFE90yQBL2ifFKHN/Wwih9Y3puGJI/uk7PRO68m7+4tmpfckXGCfYXN0YNtcVvkv7JCkdva+aEUz52VBxfht6GQ52/cCXOaPTOwTNBKGhq8vcmqwrkxQykwV514A6lCMWyvs+kNZdSwhFXNLsnlyNwXxVmAKDJkbSXlX+euIF4bmgHI3S7sh0t+nuFiUzjd2cFBs+pg/PfiZPEslNR01S2SoVQpozgEVXS1fHB9lvfZpgVBiwecV49y3FIP3U4lTahxMhRYYRGdTtIFGmNHbeI5D6C5DMQkeD+imkqJ7G0KEexQSoy/aeDoCzJ+3HKa7gnS8Vsq+gQkoa4zYGd2BV5oGM+R5QhrPmRrpq8pPwM0LOFYtDRHtGTkLZHxax+0Vi8Ib594fHXwcEBQO4bGgMEyTrUz0iyXvJ6zGA51gHDCxZPUovVtzhq2SPzvf4CRm8x6tkLzJcA1p+Ryznmhl4Z6cbljOgN3K/n9Ed0X+Ia7aD4rakTgqV67Ml2NgjOmr9RzGY6BxLPDqo5JQpEQ4iN5FjpYg+kzrYUYASdN+HlM+809KeY9DsaeGY4UqW4vgP4AqbyCosQDsF6YTDfVwR3eUAAAEqQGeY2pJ/0/hM/qqRod0LVylbQgjglZk3Z2I+wK2hNp/jqt41ax9p9N9e80A/eSeR73fQ27BYSGNyrfiv8Kewz2OmH9C95/3DfxvYN0/crG6e+e1fDrnALzlM42xG8rZhNERE9O6A+uWWROd25ch4KGoC75C68G1ohO7Ol5/RzIIakJ5uKRv+fsqGuYSgT2gqc1qqlJOQgMNUlcONyYNYB74UvoPr4+dAqSCT0/UVQxOTYMjHFPsA5n97+sd5shUTG6sJoaH+ZxT+fAC1pxNthtys1ksnzxLi4PTVMuxEWw86pHEjA/+3FvAEA684qUhrnFfJH84TLj2Iag913K94UGSLOh3RkMGM9YW93YrujvKZm+3MHUf/80TWAlfdZ4ytEoyRErrOzKELKg+X9vdFTZCfYwE7wVfI1ApvO24AJvqfewinoTCKjg2np45CFTBb0dEPFi01iD89AlS34xx8Au8rfXUDEGEg/rjF7Vp7fzYtgWfZ1lSy2mZ5tAycH6w+jH1aHEYKWIwOTM/3rKf5dYA1fhRrrOC9Lsc3wk5AbuyF//7oZ+lf28HYQZceX9SqMQoAhO7rbBzt+BA8SWlC+5c5XAJpPrugOiPxbAnLySSnaKCZvrXWCDIRezTT0X7FXuqRGZfj2M1RVZwe+PO0x6fc18/RhSady5mD9CqUNWOUSI8jTRTQCDw7dRLKdIseJ2zMLK80pn302STv/fdC3E70FWrZ2OdzQGwEiA5psAuFUBMby649r767L21uH5iFfZ7y+Dj07EPTLFJHSkTfAuiknhLYCJogxMUwXEWzLsYQpMGhS4Y+hd2QOqcgDgqWZ9J8ALog5vHjiNdT2Gkaf/jqlpPOiqCfrxN/afT2BY7DF8hRlLkk8gDxIKMdKD6O7iq9izgZZ5HyQvZWjcPTtUugO9DoHkKm91mup85gh0mvUtQkU9d6aOM7nuyNOMfwEETwJFGyR8+f9ndfKEBJXi7B08/+p/r9kWTwyKvnWtY18WswsuOLdRibex5IZeZYI8FxCs2qStiQ/awDH/ZbAbWkOdhNITiAr/VBDOT4v/YrRN+ADwxzC39C8jWAmG203bZoBWgWFiFWjv4EmvtCZSzMXOxrdNNiR3tJ28Gr6mXNvLfD9Zki1ZC/PnX8fz0MGL9ar+F4QRqHCZgQDq6DpphhNLniuFqpG8/cM9eSdcpeLepQEav3wFZ4qSG9dPHWiDyf6oJHI2ijKNN8qzMC3tsi+bYj29vRU8B8adnllPIKHcMWWnk5dXlTDtRjVZ2aPwPKR19XuESEHLUxvEQS1bS1tXw6KJ8IhZ7SF9uXvRrjwogFjAu15iwG4n0lcKFUi8H7d4VSKj1K91LF/CqXp1V5xRgsfbCDICLgJgTNtzPKq6yZa4Qfkpwm5X7xQ6R3jU2wwAUlRDtr30T06EeK+rEJ2mWplNSV71miiRJUeMrzY5kb37nAJPSGivjgc+YwFhTT2q+NiaGuDYUoHMEGaw+pjsf080QRfSJjq8sV24V2+QXqsktQKQ0LEhF0P5Hwe8Y0cKcNkj+IZfhujQSIwP1lvPmr6qM3AEbK7PsSJlQbwd2lOYhZ3z9AAAEoEGaaEmoQWiZTA//5EzwX/VIDr9ifRNYGgrShD/Lfz+jfRLzTCmcjvvVQmxoeVB7flkdNZL4NhwMUCcBSgHHZD/N2F9NkBQ6llmxW2//yVC8PbyuJJJTGj4BzF+AUEN0ySmulws7LMJ2wPgdhkZGh4dSdolVUmyuryckhiqwtgtErGRZhuix7v0XxIIDUYQsxhodRRNmgl+wMfbiqI+S+8ai81EUP5i+9dxWDoCAr2VowKLvxBG86xHGZJduqA+eKXKB8uHU3KbsmR1qBxc7BEi6hrJE04OoAn875/J7wUQbFy1JPoYCp23aE6lrOyA2vreQHb8DJVcWAh98miQ4qGJTKnh37H1flFXl4eMG7RpLGTZj4CsnSGtkzF0hPu8hd7nRUysIIIsu8Frg2drPRqkU4tiyD0kbHI3vUhPvyPil+WVJEz6hqNB1iGGkpqFNnHVhV6PBJr1C6khCjA+S3/KAUi8BPlXwX9sLkO3UiqGu/ukEWkEytRFrWxjQkVNaA68L+lMvW3mqh89ZBd3UIMPLrAxMVA1mXUhPwQmdxatyraelYiezHx3SYApfCbhTtSzsPms4JDY0clmBvoZDziNP9631bfodx8lt2zdy8W8WJ1PwtZmJtuNFGlcSyOv0Dmi5U0CxMSxkSy+iuvyPMosjwzOcureBfZLihPP9p6qJ8m9qSLihGxdcrfQpjfX83KE4lOY3t1GBIk1QMM9w168swvj2ecANCLM7t0mZkrw9aAf/yPtpfYK/zVHsBB9uQjfQu+CCdALM9xhufSLwWpideQDmcbU6/+yNKHbPRllsCJ1M3vrsK+U8rJbzXDKorsikmhIUScSA6Q21O0+DbcVCO4M3ggGO7WrTVO82zTyn4B+fkEcn9Dkgy4UG/UaVTRnv+i/N0DmUpSlasMOcFjyO+LMRnb6RNt6/eEY6UMktsclVtuVFePo9/l3b1TQIpjJT9ehIYYE7IOKe1PYX4v9kNeMNocjfmEQUw26hCqdwztdFdGPdRtPQe7x1G4HTIfNZOtkH8IF31Z+AYLkUEarO57dqWrVQ7TCV/NpsFEunklSlV8KMOMjRK1oiMJgsMkK0oJ5oLO2Ex5DnFh4WOg54Yn7fuu6le6XTmZ0AKOMNmAKM5uKz0ofkBSALzpKG4Y7S1FO3aCchIRheGO3wYTn2Ik6uuScjkXSoTc5B1/Y5H7RQ3ryhYEgchtbEIQKL32d7dgnSsjFFnZ0pp3Ee4SYMGxRwOaB+W+DtzTVBsim9HNHy7eaBGe9Mkn7ISEa+rkYCurbUtx5Af3SuFFb6y3GD4lsnZeq/6axso8VLy5CiD91E4+Q9on9ILxkv7d/Jc2DlZ0LkmKCHsnlNjIkb14YJ35KJmBpJhEFcBSGCSAwkClv8GUgdA3u6q5REoroWH/GAVRbqY0Q/51ASgHuMATeKeOHF+z3CJQIYME6rOh7TYBOwpUmhVnz3IOIkqX9AW/gOKA7X+I6Qn3q+ghERa52syQRy+iCEJOqp/5wqibE+T7mtehHMQTUFoKd+OxAiXBXoo687J+yFkzn5j9s9TbVMxo2pDcezuWA1+PLA3co1AAADC0GehkURLX8m/pgfH+KyOl+G2Phn09ejtN1joH2oHd8NBPuk7dnxZk/2P9UeXw0jJcH4VfOpFFw1v8kNzfSTO/2EhLnKPHLHelXqych/M8Vfg6NE+0//++gwbUz5IQCpeMTaH5rrxKwF/EucidjicgS1JwC5LfigR8arHBUbLVycEJpQQMAtAcKR1q67yESATthWZhLamv8EM72PiPpHsruOv9E5KVYUtYWD/44MUZ5Hcr6uh4/Tx75gOt/JJgUTVoks6OlXtdQFr/tcHEOiUrw+WuxUprlgSS3yIeHEPgAY1t+2/b/3cK2uw5W1EVk4I3AooezQsz/rcrgDnSjwqczN8FQ9n3cd3wOa5gN22nNxTUzKKG9yrlODUrRuZ83FRsq5nRbrf4urMIC1xv/DqZydE7QPUioIUkT1XwSgwXasp4Rjr8gNf5eKZ9liRhSGEiM0I7b0+h6CtpND7tfulIGel82Vwk2IkxKPI0PgkM1arbJdtThAAPcLUT0w93u+Jc58cP8SukSh6ILqVLPCvrGVbsESAP+WhgtoEFiEUfK3E8Jkpt/AgQojyUurZtEFu8P9oYsAinhznRG3uhvMXenPlddxaUObRX9codM4TSn1ZJ0cjVotTH6bhMqDnjq0l/oCfsjySBbOLT1t2CzcVYHQ0uiZYIyMxwTbw6yzU4mkzScVje1+3e9Ovq1HAnRg1983kfH/cvxo2R3kmtkN42TtESWW7b9EW58cPFmFKWQL1d2MAAqDiOKoGIzJdeAJvdGBJRU9zoRFyQgZ+r0Yvw2R6V1N1GGf2lc7TY/elq8d2s5hUnrpWVOJrLTNJSFvKjVDQdvZyhhjwI3WVfMC2EJVRbv95pDIR30CkvrCsGhBFUkXfkBMUcJPqXr53YASWQf5XrLBSlaekm4Sjb7wizf9dWrCxJvqg6338dQSbtKxt6FCFi0MsHYoDCgr7hS9O+215uLwYqHzRxBXOtimGAjS+rkTFkDpSJGuq02AsU/aLhmU03oXkJYErf/r0Dos9TC9qs0TRePLdwxfAAAESwGepXRJ/yntku5j72/55qphIKu6LWrTzE5yzyT8WQUhJUWNFUwdLnd0KrKLmHPByQuEQDlFPO/CV4HbTbmb+cRfDMSNMNVKh328cAZMm7T4MCh39DMoqSImWaMzBF6s3JangZ/fKGjkPbk8v9IDFRvS1QUSZW8AaQag+rjZDB6pULUbG/zvc0tNQ7PqFoDaiHrIB/N+/eDgDBqaNyVROkUnRORwiRDHMdMXqaonjHRef4C6d/u819p9tlAwsARQk5NlmTnwGw05ssDuA89V/MkoygsKk9ijZOaPavZKlUrFcTzg9cESkRRLq4NXB/XSgpJVRDF41gZO9AVbCsQl3mhlAIFmoTUYJZAaz1twFNtnYVRx/9BKLSvsKwPRnHQuRVqk/DEZKb9ISKQDFPDo+YGJmAWff+DWAP8Fx56s+xqiAX2oG6NB9FWCTQXqL76/EP7raxBCfyx72F1ks2+e6tyQdBes9aWed31aBIMgbVgH9jlejxGoXvzHR9ekTrFs10sDF6TwQ+dUl12mFwgZ4gHzn5hKYDypmAc8yJfcAIyhgIcR8Gj5anS0/glFOewsc4CD0td1HK6A3/Jl5DWlS8QI2OgWvrbaAR50G8EdD6wmSLxDl7wEKfdskmiYH0E3wh/AFNNKTjvrVgErZGTp4QLjyIGVgptIhaBjGgkaiZurY6lKx4zg/vDcbzJgwiiyykPMbUNFMUgMVBNtL1ll+eTeYFuIiUeeeFR4K5V+32rYzXouEHwnwUGmBuN+Qmy979uQ8cOB9K1ov4NulfAa3i20I4E9YEKiXkuAisZZjK3GinbJ60h/sxoLwiR7kKqFzq3ABHKjV8eFDBEOZar0hz0xBfMW/BQvE4djc8z+hSRmFrmU/FIgrtUDZpb5rqv3gddQD/gW9AxOHT0Fbu6PO0UT4wziU/bA1DIcgzQgL/v47VuA6InovxpsRzPAVa43X4uI/rfBzDhMhIGsE5IApiyv29uKZbCSDU9ww1Q6ZC9NDozdwbmi9vserBm5jW/QZous6MbVKPsNG8QhluoFbsqy+Q31zSUqQNzIdAcVZOSTGhkrapSjjxInNtnQWfvOKfadiMhQhys+LUWCiIGI9AoyMpNWO9y+h5hpH1Qszqf2NedApAOGoCNOnqCXiZBg0Anqzn/2ln2LzYft5IgVHCweWXQHFklx15n6Qu3cIpJjewD3+3CuiJfSQ7WeYoaF6EUgFpcPPNe5dO0vdpGNXXDqSH1v4spWIz3du/72Zjkahs0RxmZnaAnNSPiAK36dkE4kF5IAjd5dxfPKYMHyM12BWtANCjeX21hN73VJl72fmas0doy6nVym3ssvjMsYWRQgzc2SeCw4hDhMA2tkZNmUUCGk7YU1BMiISetB7A01reyBvm8RgXskAbIplJLebxGISct+VTBkJ6j+4GfqlN6YOZC3edo9dLKgujUqsz+dHM0gn5A0JrpnR0EAAALzAZ6nakn/FNSf1WlOfQF5eEiYwzNDDgWOMsX6f25GBPkf/k06VRWNTw5HvW7zQbogWswA/3ZHWlcRuLl1nglX0DvbgUGosBfZHLumgorEG/Rjd9QDPMwySPb0BXWm1b/U3G5XOZ2Mi16d0XJ0LduDrTC5gv1rAlo0DXi2TfCCrBMnYhQLEuJyZcgauaYovrnOfXpFuu2xygGdCouSvXwuCs5QDPbpyN5fM14Pq/ajR/Z9XSnCnF85tK8OidN8rNlyeIUmbXJD2EUL/Fr4YpyMPWb+evkidOqRERp+0XjERwmcLMdNdSemN2TNAQlwePz8k5lixyzzlZ8pAVvYqhjFAa6MpVQceGwLV0XJYV6k3tO787Vw8nj2QXcOd1+elL4gzHxEeRSG9rkUyRTY9msNm5s6kJIwmmv+qcxvKoRiNvsZ/asB3MgII4zrTdJeZceAAR+Du0qXJZ9JMy2v6dQtJ5pMT4BO8hqiim1k54XU2UojB0Y//3ZVRoZ6EeuMm8Y+gP29gWGjQbaLdanCGreu0mgAqEFAhyefKdb+KTrrs7WMyW/2eB9LknQLrkpdcgpUCewPWkqckfKOestYA6irCKbpn2BJKsyMA/LdC+3oNTmwkKxBefzxFsRBw+9SlTD9dROuIk8jkEHge8aiImvy0/aNfAFjuf5ZLaezsdqSTkSw5VIbfWH8F/QYW1pUqD6wyzlYJIBrdecQ1gzvdEh51p22ZrA7okioEDmfoSruXwLBJllaZ9GSjHT+AJSKn2SI+FD+XMOzU6kjkJ2Ckz4o1fP0BAg9bnP6DKi1YvdZqfo33Wpu1Q/Gt+4SRJ263YL9Pcn2qu6uUhVl/p7rKUkMxy7nWFG3zA5R6bOjFv55Z1J0YnGRNg1e2zmEFLYn7s5rvDg82LQynM2weK4P151N6Zms3uPv4WDLKXnwkrkycUZLe+Dl8U34LX/7hs2aeUgSXbXM6PJpVVVpxDl03a7efVuIUyHie2dQfeA2TfI/FGm+P5AAAARiQZqsSahBbJlMD//kjQMivWw+HJ5b9j0D3jb+jt5LrmjrJBFD6B0hgYR06BJcwC2/qpAD7+H/DqyjHeBYOC8x8VN0NoCaORlpnO68d16K47zD6x/aMOK422fqpT3escRen95oVvOrgtkcyjP/+Qw7gyOydxYG0kUGK+XZhNVFGj08afEjpvA9E1oBVGrZAPY8e9PL4733hpE0HFBORL5X6x68SAbjM0j5k7GbnMTKRJXI9ZSV+v0nHvYZsUUjcICssL3X78FtWq1OZPK3xWI7neWzJ50gfMdQ+a+MOGOPJTowH+0a3LvjyH/hHQTO28f1aP56PhwvLILpb0fFNm9BibSVJ9mwF3wHZsKw8b/rQ51Hb2fJA5/RlyW+iN1O9XJ4jQJazPHTB5GlTeKGxjOhdqdH0R8n4I1xPtAiPd5pY5fT5r2d8VIjYKZ9ZLJ0NPY3GIr0Unf5MsXKyrNhBo/tZipRofAvaG76T2/ipd6WxJEhyM0vjTxtyaR95IKs2PDw6HssVjgOXQsBgPOzYbulDKeqZPo/6PufWpfhEQr6QuAEP1xTzSWNv++/1zH5yqxInpCR/Z6LRK9dN1x1NgwLeJcEFlEsfnWYtIg4B1rVg6MGvj4W7Igar9maLe3HU9Vgx85qEhl6AmwcoRlBJfpUkobtu6Hi7QUo13+YkVoq/4bDJ9Q6wfDIb4RqXpLpFdOzTaVRH0AeUwcM2rgL8NyMfY3zrpR2MG2O6TU2DbHfAlKvvrwcmKXLOJdjauX6sMTcATzgiDq1KrAoTEYWbDPt07hXwAkJAnYwTwWyPle/BxTl6IQFDMu9ORoa1ViaL0STEwSZF3KAuQ3br5wn7g4yh58dMIsBBLZ9CgXU1C5cde9zCygn9uGJb5UTV/Qw6l9Hm9kmGMPrhAbsuPyRVwxtgPRo2EdHhqm9eeogEHY/FfTyVcIarDAtV9Ca7QfaiqEZiqLXTmHj61qYnRxdroHE5UEedhDD1XDysiq1IIG/rNOhsfWGSJw7uGNQ1VVpKDX5661upHAaqya+h8BikLskk6F9rx1MHY9v5tRKPb9ue+UrfHf5LQygCCyukL7h6mu9en2Hr2PlyIViv5lrLrH68eoex0SPmOGYWb8iHgBjFyCJOEwucFjOvlnvH7zwS/NfA4LWGsnExz6AMsKyXNiRGlOrsbafWLQcDstsAlBPSmXXnwM5MguLqfkVrAet2nNY6tOsxRxaAgSkJ1GujBx1bhHj4kDs57LqsiKs3euN2xpYV0Oi4vPns4YD4TLGGxtaGDX3QLwE9VQMnZZKecZJZ4UqHrl5vaWyoRTn0NoZTELQZUcwiq3wLUhsHbrOls+AsWPewWMFJaRWS1ZX0N4sedX+59fhfmKRjl6j2fBZcF4hQRnG9PXWDZe7jyXYQUT/bC1wEuctXxCPqb6/h9+DTJFj8Q5NZkB0bVqImlLitIiaAaoCYfedm1jOgC38rh9o3qHwRzDeXjMfnk57+lTyYx0qAAAENkGeykUVLX88hYyJuO4dWBK1pOn8TYgSCpRlC7JMHKeH+xNW5+UW8+rKD6FLGH5m9k/Esrm4K9CxokF/dumgsMSmg6seO9BpRx9G+jYmoeKMz34ESy4PFkvxQxMmCZO3rpHR12PzP9cIGwZ0RizILHubUioNKG2BjQUiZepeVjIbnLOoB2EhqDOy+jF1/Kxi1+I/HEQOaw8e5E47n3g/8DKP8N+TWzJRaVFctLGWJskf6bD99YgxArhCQ87hxjGFIKMVUo6P5AdIC3oD4SZSZgOd3WEIil3sVwW82ahtFB+tdAweesRCzOt5LXOb+aDmXFkj6dAnWUmf91notlYSoK+Qdira8mf0/vCxCB/Gp3KahEC6tl/BodOocE8oGV89w4XBScj4AgwkqbFOiB/6E/fAeSXUOWxM/mfh5chP0Eaqq5hYqgVl1/zGrO02DZqr88hLzogCY60yaEwJUkZa+eXlsJpUySuC9oCppJWmWSJI5kLbpvWuIS7hBzgoGU5V7ZEOtJU6XaVRNk2dGiYVaOvisFoJQoAkxGwHG3UCnx3FBmTwivw00XdGHH3ua64ntVo1Pcl4ki5WUeZ4VgOODU5Wc98+uuzY3FlHLmt0sMBm5isktMgyI6AkX6Bwb1zlKy0ToAznEAET3EAD1kPcEJTx+unD3yr6uz36/HA67fHV7yl8KhIqz3YzBpjYYs3+ZWBiM3ZBle3eFZ+8SZzkbbEeqQJQVyj40ZF+LCYYUvMt73rA2ld9bzYyikkmeawFv+5g+favcgGYNhEB6HTV3kMlJUJ2ru910K3y+WA8KYjVwA2w0Wx27+Xji7ZhJxtSlf1JjXspKbieiWec3h58ce+njPN70CBhKWqFc/OAUwh9vegmH2vmu3UQR4KpG4SCvuuOLshPiPeZheJ+tk/BpYw7Yf3QvSdJNpVXZXuno7MXV9VOwkN+d+Ov+sxMnkaI1jA59ou2iPbcXTwLbCyhUUhAL8GLobD2sJQYG10+YdDjm7r9AQ8MbgrW5ypZx8l0G45NymJEORBdxXnovnTyyS8BzFgJwKe34kMWrExi6zPZbkCweB12NG2Cc9yrDCv7wAPdMffrUCJDDoem5V6Gsk3zaRzMdklqIK6eKSu675ynUuksKgp8eaUj5XJcHXrxPEuNXqyKksc9fSAl5fXKW8gCO9r250CV01228Xo/M5267kh3a2/R2yT2YOn5fF1iYVG3hUFlcKlK/Y6gh9k+QBdcsR+62zA8cFBXgKa6aiCvV2Qkv8soUCpENyPNYNT0+jYXHgYoiFMiPj4HW+WzxW+mBiKkWuE25DYPaRYHDXKkdoYc4zdRFGxv5cn4JtTyKR/+qtak0cMQ8RdtYGZcyM2ydrnMygKVVSNZgeDUJOp8X1nN0xXAlU8L86zPd01KfYUTCdaFoXXY8pcBjaOyMgcb/y0xpUUAAAJ8AZ7pdEn/FLQfgPpgppeg44j0chQJoRYecQUXokOkP2VoSRRNHyM5x+hc+FIXz7NvQJHzUov7mdn/EkuqBxkMrzD2XN4TfCZ+AlKirnsoBIoHyyevQ12hYKg3lcOyupIe4W+MilguaNaJJUQCpI3M5tXLFNQ8ljc6dehlljpkCA3Jnf9wXbV52w6J2pvsj+1U0pfyUIczBSWfTNp+hyJx0I8NW8awSFwGoBDjXfB6aE/Y6n3BB+MfuCl96ro4r3oEYDRAS3CoZa7i8xHbla4NO4aVhpZq4tIY8j/Ld/skn9A4+YjAU9PAnTCHyK3AvIIOr18kXKqG/azfG9Et4IE/gjOF/k27OMMwksJLrYyJOCsctADyy7GdcECbmCh7N2bqYS6QAQYUPC1mBweJp/NmNinIYJkeW2goc+wXXMQj/hqbUsLQ0xGZNA2L54Kr2K035B92zAgdLy3MeVQoZtYoBTlKr5CCHdoAdiL53aa9hRywBSHEff1lt4TGXa/vwsfnatu+8RjmcEAC0g42F88Rf/hhvChrvRN6nhq9VILeAUgCfRQ8ZLAf7z0O8+DdsAFSvnCM0QF91lE2Yr6L+eVOfO6524QxmifNwGWmr1vxxNvcadb9dkSAfjSxbVv4QvaLPSRUcIb6CVJ0RDhdcY3U/Ztd3lxkv2cPW95ey1voCLLC+gq7imJy7hcjinLnB3gsu/ckYkD+flyN+gChVUXv/E7nqk1Ddky7eDQaQ2i+sdAl+l9sjbsVxbBGRXqt4T5SKo/rIGmkI116QDC7wCQ+JIEIQ9DgPU31I8uau7juw2JK+VJFkrtuXNxXrHXnM3kw+JtxUAqXjQO9eE5AAAADpAGe62pJ/z6XOUwZffK3Mmpqp6ZaJ2iVZOkm765OQzMZGQV88t3xZzTQBLUDpS5/UYwzc7UhwdOkmuWdY8AAiGWXbJckTTmC40bd1jnpLMwsPenYkTpwcHdtfYPt/MkshYFNefEsCdIQ8bdVzvQKD0ncStnUopSOvsTWywMuuc2fza2x4jJlSpqxvyuJTtlnLi+zPf/7rz/7Oku+Tiba/3GLoH/OTtPo2wcRVaH0ysnivNHOFrXFKX6clnHjyug429qHXOQJq/Ev8EYZuQAvkAdT/b2jQZXFrIIsQ+WWgLOoG0DRH7YtW20gJydrmc8tQRnv/s7FkZCy5htccxMgOd65/igESrABz7T+/5nqWd91en8UiNZF7SigXt+7CzqAMhUDPxd1JXZAUFKpR6RQNy0+om0ZAZk/nIy4Pdji0vPqWxmwfth922U6HJrZFqNMs4cp742CsXsZzr/ySlooMP7METv01dtr1GAS2U2T/eLhZFOgYNNYvRNbvl1yLQ+bP+GALtLuaPveNiBo2hH0yIPd7Qcb/VyXkjJiqlIQCRQghRZY541escERZcfAXQvA9pWpL5eCqKSB6h0A+egAZ6J36IfEgRCvPsCj8ccKBbumJCvrUg7qN8BNZITOIc3aEFzIUNBZwSGPco/4gR2H2D2h6cyB8sYwwUEyAOxMPfDftDU3k/3xrbjaz4bTMtbCeX6vnNJSvr+Wnnl1p9eBFOa6QOlOy5IHpBTyyleB8WEdxFjiINzjOZgQp3ESQYNNLqwbmclSna/p2w0qm8E5URRCKweOkUDnbM/TfT+R0RRr9eRWPzoxOQIWxlNVZd6NQrOTznqBvFpc0vSRlDZItp7B/Fm+7okBsQT6n0JhJvr3mW3HvaUBdm5+RUlL7oqPr74YG0Q49wZlmIUPhUwJn2TNOPJA+0xCobg7457fggeDgByNRjewUXMYavt5/4HaW9M6aV7MKIyjUSXZvnIbFgZIY5YycfFfIzPtAKY/M7c4dLmqz+0YBK/pciwQykNHjQWNXe8mUd4vvgS7WFqFdwcBgkQ9l+Cujthz+IC6Uon2gxJsrgh7IAYahsqzMCvATO7+KAfmZQojb5chy+hCA50n6TVmnIOdu6Kqo57ilRTajEtx+Gk0LWiWlnvG/EwzC01A2LqSYyD23H+tRukySXlW7FgmNFNOAfM+jhl7YR1A1tzN0r/i1jOA6hzLf/cAW9Ac37dN94kGnbP+0Oo8sxmBAWH2AAAEF0Ga8EmoQWyZTA//5+cBFbEzej6CSKmReDolg2cy/jU8aqNwKXbUT51aBX/w8xTnpGDzJyRcF2eZOII5R8duGfsEwU9Fi3dJxv+H9HqUrCc22COxggSzVt2iew78Ljshbm/ib6DBLH5+MMk9XirEHEd7f2TwLV77VCP/jUpOeLINptl00WARrN/++OeVKbSxZbegZv9PbGHATsA9KGyFmRPkMViGu/6s33xuIKCh83nsgRPuugZaFm7dpsCkLS+lfIwjcgGtkSgT97IjDXxr+RwaOastdAOnqDiBmgXElWevZERhHuTwziImO5nM3FgtAtcoQh7RzYAehYB73/HeBjFeAK+ZGtFQw+tv4Xc7vie3/J8A3usQQcTxMJVcj18R6rVtu0Xtv4jAvICQdLfupJIRLdd9DBt9N43mpFj4EHGViGxWaAdpVDcY1fN7Yw/yi/RBMFB7kkLZw9hlKZbXtWjdyk/ElgNeTbuoAG3BE4TpbC9wjtRQgiXkmBVcdRFQp2vnOY5pRymkDrtx9IOL7ZxqXssJvr/zo2Cl7rVBZTvuLbfitWbTRBy5WvhjG3SHXl7GrfJlKHX+yN0cpE0LyBBQQD0otWzuFkx8h9l9QS5yLeAgToQoDOGvSmDfFNcA84vMtJhE6F+8mcl8M2wGWu7ZgfpPkCdoYXeIY4zi7hnHyZXMGRVlfqdceIdhWFNgNnABX0pYYoOB/UV1hog1g9sZ/8i2ZJfNzJZ+iqvby1Mw7lqO4Elm9Y0OYcbejhUOoWblHrs3BwZPKE8ZupB0z0EI+s8pfWUWDwtkB8sDMghILGvw0ucVC1VZuZ1IQANGQYmrURmiEKffQzmHBq0wi1ge3t2sG8zO3/GiEc+xGVgk37Bi7rIX35BiI4LtvOa9IRedD1RO9sPTrPRA5zbzdJTFqzAfp0KXEJDP5db86yosSQw5qSlEXeGH88tUX40B8reduFXbDbdlfA8T1NvCpn0yLN+14OAyOl02u/GbVSNiOp9j38RpLAvOFKrJwuZg8rXpMHiWS3SBXIOEtwAonXCqy8RANin8tYXUoRjU7fn4N/6YiHns0Cv9IOPhURRWxT8E0M2esVMQWQc11gXGYYrJbZXuTUyKhgcgcMhveFvzn/h9vmdb6vSrj/HSCo/QojsE+ScgFNXdi4GdCe2X+tKq9N3V9wQfzZYdsgtrEHUkxcjyytw0opjomHJ5r/Omhlv0jUekr+/n6zSU+lZy26HA+JBFlSg5il7+cJAR9nNwslrufnmnT9az/c210GJd+av2vYxjftI8AaG8OEJ95L0JNxZmG2keQe9FphLF+ft4OB750bqxIhx47YCTYk43GXFdAp5GVDuo+gJckIT2rZWjxDydv1G20HheOxLtfGyJ8lzDZFMDaQAAAvFBnw5FFS1/aIzMfZWuZF558CHN9S10NrMe1/G7rW+FrNJEZw8oLbOgIzhNahG/Kg729oy7wyPo9ar6hqJcKdz/oXw3xK2T//IVFA4kkTAZf6otAdp0vaoUt/8TNf2yuFbnszGF5Kl7ZrDTdUlH1o46O4bx1zdkxogdJ+dF/ZxetnqSu2HUEN8lX56UXyuVh/gukXMomfcotUCYVBddiWrDBSbBO3G/KwtjHnNYmjwfn1KcWf1aoi8EtO4MMjG6PZ/rhKmW8AIfo/4ya4R62Fr3EPZoimyL+vMv1CyHmvwZTnnAmQEgCHLBOr1oUFbjwccTqqcGt1D02RklsLzi7PZbmIjklyq7bm1o0z7A6YjbusbPKAerzrCgSu5NEvDWgxvj52nIgc8tOyH1nYj53XbzcalVYSqOgJl5NXD3+EUL3vlvC45yTW0SH9NHLl2ax/3UqKdTYQIXVCA6bd3GJpZ2m3k/MRZwo7svTMJxHZgNTJuWrXGZQwMFmPiQ0bNAyXZZLnijYhUnoGO3lS0IEnLVwqGyxPKOUGrPcIvM8/wo0Twfc0r+NnOFNDllr2CbTZvSH9jmBhkNElrjqOSDAP0QqM5ao8/J4ObAkW9VSVRSD3bt4/w/hD/B94bZWBx3c7YOGJIjxeTy5Qr2ZIODiHiD+1yiqV+3YrI4/yeSlw+a9zF9fSBeJs2uCfbGKzl2eE3c8sXoF9RZP+sXyWqobqPqusaMnanCL1VM2Tvu0/NQHEKmb/9QTzx8KLE+olKXOiu1u6Bq1h1FbwO7x8NgDOnmVxUGa17uW9OU0Bxl8BpEUUje3k675cadFbJ6dB9Ml9mf9e62R7ZPwrg2HhRCNUUxA6s6kFO+zy8Ogev2GTVH2qNmfFYQtJbpVt3CH1TG1ZGiGH1xsoFK6pRxcGuNV5KFsuAD38hcy2tM8F+33id6wqT1/aym+2EPhlBxA53czv6G/LGdbIRCBoLW3YNmb0AXKaZPo+6yOZl602EHdQnDgGEAAAOCAZ8tdEn/RM34f0MolrrnYTrnaz8gVM2FaFwzGbsmRiLz6QlKwmmUXlC0wQKf12/J28Vs2PY837yhIXLNpH1We8nhGb+Of/sbUlBz6P+/PHcgIQ6m8kVAbZUreu3rT6Z8q2KxXVMQJp62FEboE3FPgnttL9X50JQdwMS+C5XgtZmlLwxG6kj9tZZ8lN9y5vJOMwHJ5V7YaVY3WGSMQ8++ExUy8bIUU7p4/fdutgiQpxMaOXCErj0ckBG50tyZRAU99gwuOC8A7i8orj3MrNfmqbj38SsWckAvu3HA8nyD1PUf92y4PkNTUtvWt6uSb6RrSxr1jaW/VGecPEe0kwRggskpQw7imTERFDrPFgC6X8GGtwMzoCUo88H/3AIagjorumLjfezM0a57C2rOFAeia9AllE67DgS3K4/ApWvSSAmGsKRd12RGX1yNeZbzfR1FODTzshnDaicoihV/mQvQGc8AEwdlr6mQrP0Mo7XyDftO7BRbxGIC1nusV7f+1Xs7FfkD2jvybhmnJPEfQKi3am1V62KpmYbiQmMKib9jmcgtgS+WvmOSKAVhq2J61i7Caim06KPtU0hsM4L4vWoBFjxlsI99rN/12ZCXGsRu/qcOVgvBT9IS56k3zagsFnJqW10+DG6/n05PV/2dMyg2opZlwB0GUnC8bDfksWREtjdI7QZRE7bi/n4MxlD7Ci1MjQ6NsVsIFLMruEBk1hcZQBpm3QdHVAL6TYpqS7wdzQ8YTuRp3Ta2eaydH9zsdloVpWLQKTpCD9KzETSbHVF2Mjw3DNsmoUcEuteEG9Syr//9NaY0nKnvW6tmwcGO3tl/0hkSNliCTN9QOk+t0zcwFFoz0dsOtY9fKemzFkBNvDYEZ6H7A+NvNvgRGiqDZLguQ92Rd2OxVC440HCdKW1jJZ/29VQPeclWtZF7Z1oWJ+cBPDnj8pLk80RciO9Pe5F74OZh5P7FeYyPKnMyIBh4Iq9JOkUp9Xt0OjsNKLOnQYj4CedfysEfwsYkPknBnNET3VyPh+nR5mDaUm2dqNlmZj3DIgoZJ0FQm3Nsc8eBmwjWI+qJStROplzUDzo016WzNfP2FJPx7jxTU5++rv78R1cn3bLFVhZwk914097jEp+6irQfS8e+FZI0xsOExfXjG/X/tQYD+A3+7RcMTxRpD7P8zbwTK5bmk/FBdzY1ilYX8QAAAzABny9qSf9pFWBHLcwk94sb4TwHixbzp6rcQHw2NubwhLLEka81rasXCrFbUX1mUmhKFmJq/bISVcce08JJxpXh5s3lNS+eX8MZw0DFToG1Lp4U/xbhP1aFyL73+DXHr521w64O/IMOTYYwbKJu72ijUYLXnsJDjbutNP8ATBSoMgaXbZECyJ7xkerz+tg7LriPAsE39uslrI1B+rw/zQ0NV5lviQ7bsicf8rqUK2PBHOSYxk+3hrg/NW4UZwLzicVQFUDXHlFC0WOsZFnpC3RZUGTYfxLxYh4Aa8b34O+4JZhpKiMR3npY0rB71CM+1+mYgO08JlWDCJzzg/BmBlYMhkNVlFjx6XQFZTdYVsCQrftMyMO6X4gvv2CHvA5U9Ess6zGdtzkTElG+DLqhHU007lVpEoQV2T/I9ouuzekn7jk967n+f6q3sndr6DE1IejCNUpjR6EUbfaM0isH8xrX3FPGFfiUXcXyG66bxsPVptXHCbZcIGCOi82RstFi8SsSFpJLDWuUC0JJWgn58RMSAVGUbt+THiO13H1N9CstfbUNWnj/Y3aWvcQ+8w6YXEvzYQZ6JH5Vp7f2vK4y5z8FugKhHMgUDUM88zGeo0wx6Wt3eMwaaQ1Q0dGwVoHCQU6GffDFkqofyzVfWVhBG577umw7wiwU+Mh53WJNaDxnIRKp+kL/9xkSTG+I6354wMTLJmqGsqpVNZxG7HmVXKlN+zDfPBri0NzbCk2eX2ovoBjX9WbLQieRhJmGn+c4ToMuSmwl0mTnorqOO6aUd7rEet+kGZek1ZONXaN7vEMZZZsYcBbOJoqjgnUNZNOdVrXaBxkaC4X+qXgfMVdXyZ5MqJ56t3I6sLhbna5LsB68nJK1M5Odo1KxT3FIOBJL/7B5kiE/Vtm6rcFCfLhfr8YS3T9dYNQpSnk0TldpLrDBNAy2uIva4CBE276zcT9G9SORs6/IzHoayg5WVPbqF4COMOKTGEAEPEj7sVrM4aG1Gzkm9Q2A+H6CH0I3t5Wea0hrIpKdQtLBtQ2G3DeXTmL9rOrISeqY6edW612Dlull/H1/y5xS/zI9owwdzQ4gIoAAAAMFQZsySahBbJlMFE//53AwohuL/pagMsx3/WLWHGbCVJQJe34peYt2ahM06OND/7UydJBL4d2NPXXyEI3rB8QEXzgL9/WlH/nwfT2r1sBk76cpcnYm8zBRQQJVsJm80j3hejemh2r5lWIPjaO8fE3iyF55wtRKM3D+BqYSqoV07mTSZwQJJWjbqHnzS/Ht3abmF6cz8SO131NuI8AlaL/Z5UMJgPMOol7Zxedgz8Lw5whXm+e0t/37l3lVHhZKNOFyx0v/PDNUTWTfzN6T8llHuM7+HRWSk8hVL9FtbVz6/9Z/ttJLtYvvpC/ZQYDPNerRWqtk8ZMcVjx1cm2/XR5BfG90Us8utTRdoyVNA+xfjiire8zPd1vjkEyzOuvLOxEwx0NbJu3Rbz/v3Rx9FkHKODW+/ru9SSz7FtmVlFT4PB9skzjrMbLKWjIe2UhyQTbaHfUQtFIDiQlJD4BPMhjoNaGDsvd8D43/kqjjV60MQu2KvjtPibGyUeCAVZbf+uN9hPL6YgJgtxwna8T2pqugj5y6gd+FFqVPWqsRFTgvAk1YfkjFs62puSWSwuvkJCDIoQMzUdOhFBCscawkwgriRExSxQGjIE66qUfRZwTVwlkjZh/0kapM1rd37wq0tt335fiQ6A2bqlbSCbZsMIrzxZboetlZU4HSVhIuLuGmhAgUHImWDyygIqV+eC3vpvHYkRuqBjlA/bykYs9zvaLa5usXATfJQO/L6XqX1EPnBLytRCnvKYm1QeXb1aIQyYGLeJfCzQyg6Sv1gk7d1sRHLSIwUdjuMyQZ5tZvz/ksUUD5iUvpOjV5McR2EwZeF8XvPTpjiB7rJsRYOORWjACKA6Ae6kOdKbK4es38da2RP1ry1J1SDk17Rw6Rg+9lx57CS7zckaiju6ni6KuUO1Jt8egGHLiSNiSzfCQ6lpwoOH7RVImj5kMn6RhF9r+bbZ5je6ZmO1Tt2lnTS0mE3edADyui81v1SVlWfTqgyCXdHHqCf0c6HsmjVN+vytH02xXBdRGcaKgAAAHVAZ9Rakn/dBB3wX94kl4gKakDg9BSLncvz4DF2/X8G/tBQyVDVAnEcRvmav/OISKxT2jaDTjEPQZwRlEdj4Yd4a8O6U7OqEc/hWTUF6X6DTSXj/AH6Du87sFs3V+UKbSPIgTdej1CQ97Xp838yj5FH5GV25ns8MOzb7alcJCgXXypofM+1H74yMPdJmfHOvavy+D9lUtVxYqx7sHE51a/U0vb+TBVZ9XFsYXH8NZwFu9St5EJQIr+3YuCCoJsntdI0iT6McKFhpngb1gvy0OH+QPynHpw1q1JlzCVNYviBEpTQofCiDsAzc0sJgcCZlEpuQvfC/rrI1IhyfrYU4q1Qd/UhIgJo3Lm3GPFYjl7PLni512F1mG1oigCsDP0+C775qVTLV7nWSBiEZlmlVrbnsUepS7Cr+jNkLj//G4MBin5ytMtzNEHv/424TCqZyCf2JnBBV6HRa8m/4v+lX1diCB7KhU13E7Q/sMX+Wirg29aysmXYUuktOSGE+2yhq72YIDxNOtqpltOasbXjxTCh0sHA+msTGXv12xir1mn/iHWyua/EFrD2Q+/3k+Gl1b0/GQr33iFTqGR5+7+CgEDXEly/kn4v0qZpuz3iRN3rPKqkQYXuwAABJRBm1NJ4QpSZTA/5g2K+QSlMCOpKTUXN39JpHY98dTvYqBPRa0XixslFVPdDlzb+BhYicZOvGHFfSCbyKAjEfFEHaPxXGoAXLhfOH6On4lFTSFsM87pRi4iHr6su5hNqYlj1xoF3zwv2Gsowu6E+yf4G2r9RCH9Jd5TxSxY+h/o2TwFpMU9NKk9Dp+SJWdf3zttigPUuA9C22KVRRD5Js+8QWyMOkFgN3K+vSjQrGNO3cKssTpqINihZyy50/thMp9E+NA3o09vY7yTWCX7slKX/8wNb4LqxTh53FLHUMmcT0SvbkwBNPEAW7YGiUdL2zH9VXpPGtms16tHjJ6P75IxYRvApYv0w3HIsTyvLIf/aI8m7O4u3Gf1OEnE2mw5oQtuLBfUh5fU1HdCbWAFDn/pA8KlSTZIcgTBoKQFR9TqOnC/GJ8e5k004Fb0Str5A2Ee2cg1sbYFbVAEN5mPppFuZBTBsHXkAxumnLQsWFJLfxlEAPitQ/NnMgl91EWzFStM7saNMT1NfmLIQ8YM6g0LgaRc6JlKf717K3/UktmKQ8MpBiTzYCudzIa1UBOXitCm0PTH6vRZx2siD+fL5qTFOmsRgDS4tLO9R5JyWPAcAbi+NdaQ1+9rVerHyNjif5SfuY1/xfo6H50uuydi9TokSyGjNJ+pvj+CHvhccc2xdKOLVSYN9gfif4L/bX1zTN2Lxtzy5dPYEYCdxwq27b31yqqqFYa/CqEIIPNM1wEk/zc8qIkrAbQm0TgUfrVt2e9LLUBaCT2Laz2o+fbSglBfpVrtweXIcwzTxq4LlXomyyWDhdPb4XRCkwsorAeU3todzcMbtFSi6KgXFA/9gol8n63HosUpN+5fn6UUF7ZigeMUY4ElOVByFlKWjVKX2k7OG/tsJNxcW9x2Kvye5Y5l+wvxzT1qc5V4cBIlTlbtXIx2UoR9AYpcPv3pQqPxuxkjQgC/Uc/JMtQKB3+AI7sYAfN/6jTe996txq/0wuOY7fDXiX7EnaOA9ruLpgDwxqqQR45nriMetnMZsIx2VLT/+DEFVj9tWjnp8J8afVMmonlx/hqn/mTXHcM2J04ofsdxRTYbX46TzypnWY5QNWqtXOwvGJJdfcT8ok4sPhR6dXh3dh2BYrSqKMdxCFKii1JyGo1dbu5T7kWgCDP4B2ohuPZ3PxRXuYMD4DrbuYyAEELIfVk0O/r51zzjzyiPO7MDIOeMEfdGAr9WS96dDa3IaYcYpSUvMWLmYJCh3qlIoqezUfU33MaNPJ+kcj2IF70NMaE3enHGbY5gGyyqYBxO+6J1P91zx1eUgsuToDb7en7NbRrFh8elo/05k/YsH0fzLdY0IskSyYJ/HhWq92kKZsOhs0WOaf89K0NEXUJIo7VvTL/fnWBarcFHx3S+z13Q6T9h7UDZi1wzbbvljhhVkdFAye1Pk1bVGscVidT1NJc2IyM4Q56BcZz0VdokC0G+wOa2+XwpFAY/1xl/SzWlrt03dgi3Si3LCxgPrlfFlvX9eE/7UU1W0A1vzpCPZiUszXooPm8i2MA66u82pV64tehE8AAABBptb292AAAAbG12aGQAAAAAAAAAAAAAAAAAAAPoAAAH0AABAAABAAAAAAAAAAAAAAAAAQAAAAAAAAAAAAAAAAAAAAEAAAAAAAAAAAAAAAAAAEAAAAAAAAAAAAAAAAAAAAAAAAAAAAAAAAAAAAAAAAACAAADRHRyYWsAAABcdGtoZAAAAAMAAAAAAAAAAAAAAAEAAAAAAAAH0AAAAAAAAAAAAAAAAAAAAAAAAQAAAAAAAAAAAAAAAAAAAAEAAAAAAAAAAAAAAAAAAEAAAAABQAAAAPAAAAAAACRlZHRzAAAAHGVsc3QAAAAAAAAAAQAAB9AAAAgAAAEAAAAAArxtZGlhAAAAIG1kaGQAAAAAAAAAAAAAAAAAACgAAABQAFXEAAAAAAAtaGRscgAAAAAAAAAAdmlkZQAAAAAAAAAAAAAAAFZpZGVvSGFuZGxlcgAAAAJnbWluZgAAABR2bWhkAAAAAQAAAAAAAAAAAAAAJGRpbmYAAAAcZHJlZgAAAAAAAAABAAAADHVybCAAAAABAAACJ3N0YmwAAACvc3RzZAAAAAAAAAABAAAAn2F2YzEAAAAAAAAAAQAAAAAAAAAAAAAAAAAAAAABQADwAEgAAABIAAAAAAAAAAEAAAAAAAAAAAAAAAAAAAAAAAAAAAAAAAAAAAAAAAAAAAAY//8AAAA1YXZjQwFkAAz/4QAYZ2QADKzZQUH6EAAAAwAQAAADAUDxQplgAQAGaOvhssiw/fj4AAAAABRidHJ0AAAAAAACACwAAgAsAAAAGHN0dHMAAAAAAAAAAQAAABQAAAQAAAAAFHN0c3MAAAAAAAAAAQAAAAEAAACwY3R0cwAAAAAAAAAUAAAAAQAACAAAAAABAAAUAAAAAAEAAAgAAAAAAQAAAAAAAAABAAAEAAAAAAEAABQAAAAAAQAACAAAAAABAAAAAAAAAAEAAAQAAAAAAQAAFAAAAAABAAAIAAAAAAEAAAAAAAAAAQAABAAAAAABAAAUAAAAAAEAAAgAAAAAAQAAAAAAAAABAAAEAAAAAAEAAAwAAAAAAQAABAAAAAABAAAIAAAAABxzdHNjAAAAAAAAAAEAAAABAAAAFAAAAAEAAABkc3RzegAAAAAAAAAAAAAAFAAANEUAAAdOAAAF2AAABO4AAAStAAAEpAAAAw8AAARPAAAC9wAABGYAAAQ6AAACgAAAA6gAAAQbAAAC9QAAA4YAAAM0AAADCQAAAdkAAASYAAAAFHN0Y28AAAAAAAAAAQAAADAAAABidWR0YQAAAFptZXRhAAAAAAAAACFoZGxyAAAAAAAAAABtZGlyYXBwbAAAAAAAAAAAAAAAAC1pbHN0AAAAJal0b28AAAAdZGF0YQAAAAEAAAAATGF2ZjU4Ljc2LjEwMA==\" type=\"video/mp4\">\n",
       " Your browser does not support the video tag.\n",
       " </video>"
      ],
      "text/plain": [
       "<IPython.core.display.Video object>"
      ]
     },
     "execution_count": 5,
     "metadata": {},
     "output_type": "execute_result"
    }
   ],
   "source": [
    "from IPython.display import Video # to display videos\n",
    "Video(Path().cwd()/'video.mp4', embed=True)"
   ]
  },
  {
   "cell_type": "code",
   "execution_count": 8,
   "id": "1aabdf29-028e-41af-b8fc-57e5eee59c08",
   "metadata": {
    "tags": []
   },
   "outputs": [
    {
     "data": {
      "image/png": "[encoded data removed]",
      "text/plain": [
       "<Figure size 600x400 with 1 Axes>"
      ]
     },
     "metadata": {},
     "output_type": "display_data"
    }
   ],
   "source": [
    "plt.figure(figsize=(6, 4))\n",
    "plt.plot(rewards, linewidth=1.2, color='b')\n",
    "plt.xticks(list(range(0, len(rewards), 2)))\n",
    "plt.xlabel('Time step', fontsize=10)\n",
    "plt.ylabel('Reward', fontsize=10)\n",
    "plt.show()"
   ]
  },
  {
   "cell_type": "markdown",
   "id": "5f76b6fa",
   "metadata": {},
   "source": [
    "<a id='Q1'></a>\n",
    "<div class=\" alert alert-warning\">\n",
    "    <h3><b>Student Question 1</b> Changing Number of Samples (5 points)</h3> \n",
    "\n",
    "Discuss the effect of changing the __number of samples__. How can this affect the performance and running time?            \n",
    "🔝\t<a href='#TOC'><b>Table of Contents</b></a>\n",
    "</div>"
   ]
  },
  {
   "cell_type": "markdown",
   "id": "9496c2df",
   "metadata": {},
   "source": [
    "The number of samples in the Cross-Entropy Method (CEM) has a significant impact on both performance and running time. Increasing the number of samples enhances performance because it allows CEM to explore a broader range of action sequences, increasing the likelihood of finding optimal or near-optimal solutions. However, this improvement in performance comes at the cost of longer planning times, as CEM needs to evaluate more action sequences through simulation. On the other hand, decreasing the number of samples accelerates planning by reducing computational load, which is advantageous when resources or real-time constraints are limiting factors. Nevertheless, fewer samples may lead to suboptimal solutions due to reduced exploration. Hence, the choice of the number of samples in CEM involves a trade-off between exploration and computational efficiency, requiring careful consideration based on specific task requirements and available resources."
   ]
  },
  {
   "cell_type": "markdown",
   "id": "0611beaf",
   "metadata": {},
   "source": [
    "<a id='Q2'></a>\n",
    "<div class=\" alert alert-warning\">\n",
    "    <h3><b>Student Question 1.2</b> Model-free vs Mode-based RL (20 points)</h3> \n",
    "\n",
    "Assume that the dynamics model $s_{t+1} = f(s_t, a_t)$ (when using a probabilistic dynamics model $P(s_{t+1}| s_t, a_t)$) and reward model $R(s_t, a_t)$ are learned from data during training. CEM with learned models can be used to solve similar tasks as model-free reinforcement learning methods such as DDPG.\n",
    "<br>\n",
    "In what kind of tasks do you expect CEM with learned models to work better than DDPG? In which kind of tasks do you expect DDPG to work better than CEM with learned models in terms of performance and training time? Why?\n",
    "<br>\n",
    "Which parts of CEM with a learned dynamics model need to be taken into account when considering computation time and why?\n",
    "    \n",
    "🔝\t<a href='#TOC'><b>Table of Contents</b></a>\n",
    "</div>"
   ]
  },
  {
   "cell_type": "markdown",
   "id": "6a3d8a7e-4bb1-463e-88ab-62270e20d05e",
   "metadata": {},
   "source": [
    "CEM with learned dynamics models and DDPG (Deep Deterministic Policy Gradient) are two different approaches to solving reinforcement learning tasks. The effectiveness of each approach depends on the nature of the task. Here's a comparison of when CEM with learned models may work better than DDPG and vice versa:\n",
    "\n",
    "CEM with Learned Models vs. DDPG:\n",
    "\n",
    "      CEM with Learned Models May Work Better:\n",
    "        Sample Efficiency: CEM with learned models can be more sample-efficient than DDPG in tasks where collecting real-world samples is costly or time-consuming. Since CEM relies on planning and simulations using learned dynamics models, it can explore different action sequences more efficiently without needing as many real interactions with the environment.\n",
    "        Uncertainty Handling: CEM can explicitly take into account uncertainty in the dynamics model. When the dynamics are stochastic or uncertain, CEM can plan for robustness by considering a range of possible outcomes and selecting actions that perform well on average across multiple simulations.\n",
    "\n",
    "    DDPG May Work Better:\n",
    "        Continuous Action Spaces: DDPG is well-suited for tasks with continuous action spaces. It can directly learn deterministic policies that map states to continuous actions. In contrast, CEM with learned models might require discretization of action spaces, which can lead to suboptimal performance.\n",
    "        Non-Stationary Environments: DDPG can adapt to non-stationary environments where the dynamics or reward function change over time. It does so by continually updating its policy based on recent experiences, which is challenging for CEM to do efficiently.\n",
    "        Complex Function Approximation: In tasks where the dynamics and reward models are highly complex and cannot be accurately represented by simple models, DDPG's deep neural networks can offer better function approximation capabilities.\n",
    "\n",
    "Computation Time Considerations for CEM with Learned Models:\n",
    "\n",
    "When considering computation time for CEM with learned dynamics models, several factors need to be taken into account:\n",
    "\n",
    "    Planning Horizon: The length of the planning horizon in CEM significantly affects computation time. Longer horizons enable more exploration but require more simulations and hence more time. Shorter horizons reduce computation time but may limit the algorithm's ability to find optimal solutions.\n",
    "\n",
    "    Number of Samples: The number of action sequences sampled by CEM has a direct impact on computation time. Increasing the number of samples improves exploration but also increases computational cost. Finding the right balance is crucial.\n",
    "\n",
    "    Model Complexity: The complexity of the learned dynamics model matters. More complex models may require more computational resources for simulation, particularly in high-dimensional state and action spaces.\n",
    "\n",
    "    Parallelization: Parallelizing the simulation and evaluation of action sequences can significantly reduce computation time, making CEM more practical for real-time applications.\n",
    "\n",
    "In summary, CEM with learned models is effective in sample-efficient and uncertain environments but may require careful tuning of parameters like planning horizon and sample count. DDPG is advantageous for tasks with continuous action spaces, non-stationary dynamics, and complex function approximation but may require more data. Computation time considerations in CEM are related to planning horizon, sample count, model complexity, and parallelization, and striking the right balance is essential to make it efficient."
   ]
  },
  {
   "cell_type": "markdown",
   "id": "7e950c66-7183-4d2e-afad-76d44e87ea7e",
   "metadata": {
    "tags": []
   },
   "source": [
    "# 3. Submitting <a id='3.'></a>\n",
    "Ensure all tasks and questions (in ```ex7_MCTS.ipynb```) are answered and the relevant plots are recorded in the relevant places. "
   ]
  },
  {
   "cell_type": "markdown",
   "id": "b3e25649-58a0-448c-9fbc-7e055b20bc84",
   "metadata": {},
   "source": [
    "## 3.1 Feedback <a id='3.1'></a>\n",
    "\n",
    "In order to help the staff of the course as well as the forthcoming students, it would be great if you could answer to the following questions in your submission:"
   ]
  },
  {
   "cell_type": "markdown",
   "id": "d7eb0232-db2a-4e14-b075-9ef187b43b4b",
   "metadata": {},
   "source": [
    "1) How much time did you spend solving this exercise? (change the ```hrs``` variable below to a floating point number representing the number of hours taken e.g. 5.43)\n"
   ]
  },
  {
   "cell_type": "code",
   "execution_count": null,
   "id": "eac81f90-8902-4ed9-922b-b8ded5327c8f",
   "metadata": {},
   "outputs": [],
   "source": [
    "hrs = None"
   ]
  },
  {
   "cell_type": "markdown",
   "id": "52473cec-5ab3-439f-97ee-85c8796ec469",
   "metadata": {},
   "source": [
    "2) Difficulty of each task/question from 1-5 (int or float)"
   ]
  },
  {
   "cell_type": "code",
   "execution_count": null,
   "id": "d71b2268-cbe3-4df8-a6d0-665aa425f738",
   "metadata": {},
   "outputs": [],
   "source": [
    "T1 = None # Student Task 1. Implementing CEM\n",
    "Q1 = None # Question 1.1: Number of samples\n",
    "Q2 = None # Question 2.1: Model-free vs Model-based"
   ]
  },
  {
   "cell_type": "markdown",
   "id": "52f3e791-b9fc-479c-871d-df4c85ab7dce",
   "metadata": {},
   "source": [
    "3) How well did you understand the content of the task/question from 1-5? (int or float)\n"
   ]
  },
  {
   "cell_type": "code",
   "execution_count": null,
   "id": "62c8c9dd-26cb-4188-90e1-b7fad675da51",
   "metadata": {},
   "outputs": [],
   "source": [
    "T1 = None # Student Task 1. Implementing CEM\n",
    "Q1 = None # Question 1.1: Number of samples\n",
    "Q2 = None # Question 2.1: Model-free vs Model-based"
   ]
  },
  {
   "cell_type": "markdown",
   "id": "3f11c47c-3716-4642-adc5-c4569ac5fd8f",
   "metadata": {},
   "source": [
    "4) General feedback. Consider questions like:\n",
    "\n",
    "    - Did the content of the lecture relate well with the assignment?\n",
    "    - To what extent did you find the material to be potentially useful for your research and studies?\n",
    "    \n",
    "And other feedback you think is worth including. Type in the box below"
   ]
  },
  {
   "cell_type": "markdown",
   "id": "8f9fd0e4-b0fe-4b59-8c8a-c0a51c24d5fe",
   "metadata": {
    "tags": []
   },
   "source": [
    "Please use the following section to record references.\n",
    "# References <a id='4.'></a>\n",
    "\n"
   ]
  },
  {
   "cell_type": "markdown",
   "id": "2552605a-ecef-401e-ae00-7a7009725bd4",
   "metadata": {},
   "source": []
  },
  {
   "cell_type": "markdown",
   "id": "8cb61e66",
   "metadata": {},
   "source": [
    "## 3.1 Feedback <a id='3.1'></a>\n",
    "In order to help the staff of the course as well as the forthcoming students, it would be great if you could\n",
    "answer feedback questionnaire in ```feedback.ipynb```"
   ]
  }
 ],
 "metadata": {
  "kernelspec": {
   "display_name": "Python 3",
   "language": "python",
   "name": "python3"
  },
  "language_info": {
   "codemirror_mode": {
    "name": "ipython",
    "version": 3
   },
   "file_extension": ".py",
   "mimetype": "text/x-python",
   "name": "python",
   "nbconvert_exporter": "python",
   "pygments_lexer": "ipython3",
   "version": "3.10.8"
  }
 },
 "nbformat": 4,
 "nbformat_minor": 5
}
